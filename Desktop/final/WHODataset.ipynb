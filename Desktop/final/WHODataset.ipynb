{
 "cells": [
  {
   "cell_type": "code",
   "execution_count": 1,
   "id": "1ec63c76",
   "metadata": {},
   "outputs": [],
   "source": [
    "import pandas as pd\n",
    "import numpy as np\n",
    "import matplotlib.pyplot as plt\n",
    "import seaborn as sns\n",
    "from sklearn.model_selection import train_test_split,GridSearchCV,RandomizedSearchCV\n",
    "from sklearn.linear_model import LinearRegression,Lasso,Ridge\n",
    "from sklearn.metrics import mean_squared_error,mean_absolute_error,r2_score\n",
    "from scipy.stats import zscore\n",
    "from sklearn.preprocessing import MinMaxScaler, StandardScaler, PowerTransformer\n",
    "import json\n",
    "import pickle"
   ]
  },
  {
   "cell_type": "code",
   "execution_count": null,
   "id": "153ede70",
   "metadata": {},
   "outputs": [],
   "source": [
    "# Problem Statement:\n",
    "  x=  ['Country', 'Year', 'Status', 'Adult Mortality',\n",
    "       'infant deaths', 'Alcohol', 'percentage expenditure', 'Hepatitis B',\n",
    "       'Measles ', ' BMI ', 'under-five deaths ', 'Polio', 'Total expenditure',\n",
    "       'Diphtheria ', ' HIV/AIDS', 'GDP', 'Population',\n",
    "       ' thinness  1-19 years', ' thinness 5-9 years',\n",
    "       'Income composition of resources', 'Schooling']\n",
    "    y='Life expectancy '    "
   ]
  },
  {
   "cell_type": "code",
   "execution_count": 3,
   "id": "c6d793fb",
   "metadata": {},
   "outputs": [
    {
     "data": {
      "text/plain": [
       "Index(['Country', 'Year', 'Status', 'Life expectancy ', 'Adult Mortality',\n",
       "       'infant deaths', 'Alcohol', 'percentage expenditure', 'Hepatitis B',\n",
       "       'Measles ', ' BMI ', 'under-five deaths ', 'Polio', 'Total expenditure',\n",
       "       'Diphtheria ', ' HIV/AIDS', 'GDP', 'Population',\n",
       "       ' thinness  1-19 years', ' thinness 5-9 years',\n",
       "       'Income composition of resources', 'Schooling'],\n",
       "      dtype='object')"
      ]
     },
     "execution_count": 3,
     "metadata": {},
     "output_type": "execute_result"
    }
   ],
   "source": [
    "df.columns"
   ]
  },
  {
   "cell_type": "code",
   "execution_count": 3,
   "id": "81a848a1",
   "metadata": {},
   "outputs": [
    {
     "data": {
      "text/html": [
       "<div>\n",
       "<style scoped>\n",
       "    .dataframe tbody tr th:only-of-type {\n",
       "        vertical-align: middle;\n",
       "    }\n",
       "\n",
       "    .dataframe tbody tr th {\n",
       "        vertical-align: top;\n",
       "    }\n",
       "\n",
       "    .dataframe thead th {\n",
       "        text-align: right;\n",
       "    }\n",
       "</style>\n",
       "<table border=\"1\" class=\"dataframe\">\n",
       "  <thead>\n",
       "    <tr style=\"text-align: right;\">\n",
       "      <th></th>\n",
       "      <th>Country</th>\n",
       "      <th>Year</th>\n",
       "      <th>Status</th>\n",
       "      <th>Life expectancy</th>\n",
       "      <th>Adult Mortality</th>\n",
       "      <th>infant deaths</th>\n",
       "      <th>Alcohol</th>\n",
       "      <th>percentage expenditure</th>\n",
       "      <th>Hepatitis B</th>\n",
       "      <th>Measles</th>\n",
       "      <th>...</th>\n",
       "      <th>Polio</th>\n",
       "      <th>Total expenditure</th>\n",
       "      <th>Diphtheria</th>\n",
       "      <th>HIV/AIDS</th>\n",
       "      <th>GDP</th>\n",
       "      <th>Population</th>\n",
       "      <th>thinness  1-19 years</th>\n",
       "      <th>thinness 5-9 years</th>\n",
       "      <th>Income composition of resources</th>\n",
       "      <th>Schooling</th>\n",
       "    </tr>\n",
       "  </thead>\n",
       "  <tbody>\n",
       "    <tr>\n",
       "      <th>0</th>\n",
       "      <td>Afghanistan</td>\n",
       "      <td>2015</td>\n",
       "      <td>Developing</td>\n",
       "      <td>65.0</td>\n",
       "      <td>263.0</td>\n",
       "      <td>62</td>\n",
       "      <td>0.01</td>\n",
       "      <td>71.279624</td>\n",
       "      <td>65.0</td>\n",
       "      <td>1154</td>\n",
       "      <td>...</td>\n",
       "      <td>6.0</td>\n",
       "      <td>8.16</td>\n",
       "      <td>65.0</td>\n",
       "      <td>0.1</td>\n",
       "      <td>584.259210</td>\n",
       "      <td>33736494.0</td>\n",
       "      <td>17.2</td>\n",
       "      <td>17.3</td>\n",
       "      <td>0.479</td>\n",
       "      <td>10.1</td>\n",
       "    </tr>\n",
       "    <tr>\n",
       "      <th>1</th>\n",
       "      <td>Afghanistan</td>\n",
       "      <td>2014</td>\n",
       "      <td>Developing</td>\n",
       "      <td>59.9</td>\n",
       "      <td>271.0</td>\n",
       "      <td>64</td>\n",
       "      <td>0.01</td>\n",
       "      <td>73.523582</td>\n",
       "      <td>62.0</td>\n",
       "      <td>492</td>\n",
       "      <td>...</td>\n",
       "      <td>58.0</td>\n",
       "      <td>8.18</td>\n",
       "      <td>62.0</td>\n",
       "      <td>0.1</td>\n",
       "      <td>612.696514</td>\n",
       "      <td>327582.0</td>\n",
       "      <td>17.5</td>\n",
       "      <td>17.5</td>\n",
       "      <td>0.476</td>\n",
       "      <td>10.0</td>\n",
       "    </tr>\n",
       "    <tr>\n",
       "      <th>2</th>\n",
       "      <td>Afghanistan</td>\n",
       "      <td>2013</td>\n",
       "      <td>Developing</td>\n",
       "      <td>59.9</td>\n",
       "      <td>268.0</td>\n",
       "      <td>66</td>\n",
       "      <td>0.01</td>\n",
       "      <td>73.219243</td>\n",
       "      <td>64.0</td>\n",
       "      <td>430</td>\n",
       "      <td>...</td>\n",
       "      <td>62.0</td>\n",
       "      <td>8.13</td>\n",
       "      <td>64.0</td>\n",
       "      <td>0.1</td>\n",
       "      <td>631.744976</td>\n",
       "      <td>31731688.0</td>\n",
       "      <td>17.7</td>\n",
       "      <td>17.7</td>\n",
       "      <td>0.470</td>\n",
       "      <td>9.9</td>\n",
       "    </tr>\n",
       "    <tr>\n",
       "      <th>3</th>\n",
       "      <td>Afghanistan</td>\n",
       "      <td>2012</td>\n",
       "      <td>Developing</td>\n",
       "      <td>59.5</td>\n",
       "      <td>272.0</td>\n",
       "      <td>69</td>\n",
       "      <td>0.01</td>\n",
       "      <td>78.184215</td>\n",
       "      <td>67.0</td>\n",
       "      <td>2787</td>\n",
       "      <td>...</td>\n",
       "      <td>67.0</td>\n",
       "      <td>8.52</td>\n",
       "      <td>67.0</td>\n",
       "      <td>0.1</td>\n",
       "      <td>669.959000</td>\n",
       "      <td>3696958.0</td>\n",
       "      <td>17.9</td>\n",
       "      <td>18.0</td>\n",
       "      <td>0.463</td>\n",
       "      <td>9.8</td>\n",
       "    </tr>\n",
       "    <tr>\n",
       "      <th>4</th>\n",
       "      <td>Afghanistan</td>\n",
       "      <td>2011</td>\n",
       "      <td>Developing</td>\n",
       "      <td>59.2</td>\n",
       "      <td>275.0</td>\n",
       "      <td>71</td>\n",
       "      <td>0.01</td>\n",
       "      <td>7.097109</td>\n",
       "      <td>68.0</td>\n",
       "      <td>3013</td>\n",
       "      <td>...</td>\n",
       "      <td>68.0</td>\n",
       "      <td>7.87</td>\n",
       "      <td>68.0</td>\n",
       "      <td>0.1</td>\n",
       "      <td>63.537231</td>\n",
       "      <td>2978599.0</td>\n",
       "      <td>18.2</td>\n",
       "      <td>18.2</td>\n",
       "      <td>0.454</td>\n",
       "      <td>9.5</td>\n",
       "    </tr>\n",
       "    <tr>\n",
       "      <th>...</th>\n",
       "      <td>...</td>\n",
       "      <td>...</td>\n",
       "      <td>...</td>\n",
       "      <td>...</td>\n",
       "      <td>...</td>\n",
       "      <td>...</td>\n",
       "      <td>...</td>\n",
       "      <td>...</td>\n",
       "      <td>...</td>\n",
       "      <td>...</td>\n",
       "      <td>...</td>\n",
       "      <td>...</td>\n",
       "      <td>...</td>\n",
       "      <td>...</td>\n",
       "      <td>...</td>\n",
       "      <td>...</td>\n",
       "      <td>...</td>\n",
       "      <td>...</td>\n",
       "      <td>...</td>\n",
       "      <td>...</td>\n",
       "      <td>...</td>\n",
       "    </tr>\n",
       "    <tr>\n",
       "      <th>2933</th>\n",
       "      <td>Zimbabwe</td>\n",
       "      <td>2004</td>\n",
       "      <td>Developing</td>\n",
       "      <td>44.3</td>\n",
       "      <td>723.0</td>\n",
       "      <td>27</td>\n",
       "      <td>4.36</td>\n",
       "      <td>0.000000</td>\n",
       "      <td>68.0</td>\n",
       "      <td>31</td>\n",
       "      <td>...</td>\n",
       "      <td>67.0</td>\n",
       "      <td>7.13</td>\n",
       "      <td>65.0</td>\n",
       "      <td>33.6</td>\n",
       "      <td>454.366654</td>\n",
       "      <td>12777511.0</td>\n",
       "      <td>9.4</td>\n",
       "      <td>9.4</td>\n",
       "      <td>0.407</td>\n",
       "      <td>9.2</td>\n",
       "    </tr>\n",
       "    <tr>\n",
       "      <th>2934</th>\n",
       "      <td>Zimbabwe</td>\n",
       "      <td>2003</td>\n",
       "      <td>Developing</td>\n",
       "      <td>44.5</td>\n",
       "      <td>715.0</td>\n",
       "      <td>26</td>\n",
       "      <td>4.06</td>\n",
       "      <td>0.000000</td>\n",
       "      <td>7.0</td>\n",
       "      <td>998</td>\n",
       "      <td>...</td>\n",
       "      <td>7.0</td>\n",
       "      <td>6.52</td>\n",
       "      <td>68.0</td>\n",
       "      <td>36.7</td>\n",
       "      <td>453.351155</td>\n",
       "      <td>12633897.0</td>\n",
       "      <td>9.8</td>\n",
       "      <td>9.9</td>\n",
       "      <td>0.418</td>\n",
       "      <td>9.5</td>\n",
       "    </tr>\n",
       "    <tr>\n",
       "      <th>2935</th>\n",
       "      <td>Zimbabwe</td>\n",
       "      <td>2002</td>\n",
       "      <td>Developing</td>\n",
       "      <td>44.8</td>\n",
       "      <td>73.0</td>\n",
       "      <td>25</td>\n",
       "      <td>4.43</td>\n",
       "      <td>0.000000</td>\n",
       "      <td>73.0</td>\n",
       "      <td>304</td>\n",
       "      <td>...</td>\n",
       "      <td>73.0</td>\n",
       "      <td>6.53</td>\n",
       "      <td>71.0</td>\n",
       "      <td>39.8</td>\n",
       "      <td>57.348340</td>\n",
       "      <td>125525.0</td>\n",
       "      <td>1.2</td>\n",
       "      <td>1.3</td>\n",
       "      <td>0.427</td>\n",
       "      <td>10.0</td>\n",
       "    </tr>\n",
       "    <tr>\n",
       "      <th>2936</th>\n",
       "      <td>Zimbabwe</td>\n",
       "      <td>2001</td>\n",
       "      <td>Developing</td>\n",
       "      <td>45.3</td>\n",
       "      <td>686.0</td>\n",
       "      <td>25</td>\n",
       "      <td>1.72</td>\n",
       "      <td>0.000000</td>\n",
       "      <td>76.0</td>\n",
       "      <td>529</td>\n",
       "      <td>...</td>\n",
       "      <td>76.0</td>\n",
       "      <td>6.16</td>\n",
       "      <td>75.0</td>\n",
       "      <td>42.1</td>\n",
       "      <td>548.587312</td>\n",
       "      <td>12366165.0</td>\n",
       "      <td>1.6</td>\n",
       "      <td>1.7</td>\n",
       "      <td>0.427</td>\n",
       "      <td>9.8</td>\n",
       "    </tr>\n",
       "    <tr>\n",
       "      <th>2937</th>\n",
       "      <td>Zimbabwe</td>\n",
       "      <td>2000</td>\n",
       "      <td>Developing</td>\n",
       "      <td>46.0</td>\n",
       "      <td>665.0</td>\n",
       "      <td>24</td>\n",
       "      <td>1.68</td>\n",
       "      <td>0.000000</td>\n",
       "      <td>79.0</td>\n",
       "      <td>1483</td>\n",
       "      <td>...</td>\n",
       "      <td>78.0</td>\n",
       "      <td>7.10</td>\n",
       "      <td>78.0</td>\n",
       "      <td>43.5</td>\n",
       "      <td>547.358878</td>\n",
       "      <td>12222251.0</td>\n",
       "      <td>11.0</td>\n",
       "      <td>11.2</td>\n",
       "      <td>0.434</td>\n",
       "      <td>9.8</td>\n",
       "    </tr>\n",
       "  </tbody>\n",
       "</table>\n",
       "<p>2938 rows × 22 columns</p>\n",
       "</div>"
      ],
      "text/plain": [
       "          Country  Year      Status  Life expectancy   Adult Mortality  \\\n",
       "0     Afghanistan  2015  Developing              65.0            263.0   \n",
       "1     Afghanistan  2014  Developing              59.9            271.0   \n",
       "2     Afghanistan  2013  Developing              59.9            268.0   \n",
       "3     Afghanistan  2012  Developing              59.5            272.0   \n",
       "4     Afghanistan  2011  Developing              59.2            275.0   \n",
       "...           ...   ...         ...               ...              ...   \n",
       "2933     Zimbabwe  2004  Developing              44.3            723.0   \n",
       "2934     Zimbabwe  2003  Developing              44.5            715.0   \n",
       "2935     Zimbabwe  2002  Developing              44.8             73.0   \n",
       "2936     Zimbabwe  2001  Developing              45.3            686.0   \n",
       "2937     Zimbabwe  2000  Developing              46.0            665.0   \n",
       "\n",
       "      infant deaths  Alcohol  percentage expenditure  Hepatitis B  Measles   \\\n",
       "0                62     0.01               71.279624         65.0      1154   \n",
       "1                64     0.01               73.523582         62.0       492   \n",
       "2                66     0.01               73.219243         64.0       430   \n",
       "3                69     0.01               78.184215         67.0      2787   \n",
       "4                71     0.01                7.097109         68.0      3013   \n",
       "...             ...      ...                     ...          ...       ...   \n",
       "2933             27     4.36                0.000000         68.0        31   \n",
       "2934             26     4.06                0.000000          7.0       998   \n",
       "2935             25     4.43                0.000000         73.0       304   \n",
       "2936             25     1.72                0.000000         76.0       529   \n",
       "2937             24     1.68                0.000000         79.0      1483   \n",
       "\n",
       "      ...  Polio  Total expenditure  Diphtheria    HIV/AIDS         GDP  \\\n",
       "0     ...    6.0               8.16         65.0        0.1  584.259210   \n",
       "1     ...   58.0               8.18         62.0        0.1  612.696514   \n",
       "2     ...   62.0               8.13         64.0        0.1  631.744976   \n",
       "3     ...   67.0               8.52         67.0        0.1  669.959000   \n",
       "4     ...   68.0               7.87         68.0        0.1   63.537231   \n",
       "...   ...    ...                ...          ...        ...         ...   \n",
       "2933  ...   67.0               7.13         65.0       33.6  454.366654   \n",
       "2934  ...    7.0               6.52         68.0       36.7  453.351155   \n",
       "2935  ...   73.0               6.53         71.0       39.8   57.348340   \n",
       "2936  ...   76.0               6.16         75.0       42.1  548.587312   \n",
       "2937  ...   78.0               7.10         78.0       43.5  547.358878   \n",
       "\n",
       "      Population   thinness  1-19 years   thinness 5-9 years  \\\n",
       "0     33736494.0                   17.2                 17.3   \n",
       "1       327582.0                   17.5                 17.5   \n",
       "2     31731688.0                   17.7                 17.7   \n",
       "3      3696958.0                   17.9                 18.0   \n",
       "4      2978599.0                   18.2                 18.2   \n",
       "...          ...                    ...                  ...   \n",
       "2933  12777511.0                    9.4                  9.4   \n",
       "2934  12633897.0                    9.8                  9.9   \n",
       "2935    125525.0                    1.2                  1.3   \n",
       "2936  12366165.0                    1.6                  1.7   \n",
       "2937  12222251.0                   11.0                 11.2   \n",
       "\n",
       "      Income composition of resources  Schooling  \n",
       "0                               0.479       10.1  \n",
       "1                               0.476       10.0  \n",
       "2                               0.470        9.9  \n",
       "3                               0.463        9.8  \n",
       "4                               0.454        9.5  \n",
       "...                               ...        ...  \n",
       "2933                            0.407        9.2  \n",
       "2934                            0.418        9.5  \n",
       "2935                            0.427       10.0  \n",
       "2936                            0.427        9.8  \n",
       "2937                            0.434        9.8  \n",
       "\n",
       "[2938 rows x 22 columns]"
      ]
     },
     "execution_count": 3,
     "metadata": {},
     "output_type": "execute_result"
    }
   ],
   "source": [
    "# Data Gathering:\n",
    "    \n",
    "df=pd.read_csv(\"Life Expectancy Data.csv\")\n",
    "df"
   ]
  },
  {
   "cell_type": "code",
   "execution_count": 5,
   "id": "41eb9400",
   "metadata": {},
   "outputs": [],
   "source": [
    "# EDA:"
   ]
  },
  {
   "cell_type": "code",
   "execution_count": 4,
   "id": "f2b0ae99",
   "metadata": {},
   "outputs": [
    {
     "name": "stdout",
     "output_type": "stream",
     "text": [
      "<class 'pandas.core.frame.DataFrame'>\n",
      "RangeIndex: 2938 entries, 0 to 2937\n",
      "Data columns (total 22 columns):\n",
      " #   Column                           Non-Null Count  Dtype  \n",
      "---  ------                           --------------  -----  \n",
      " 0   Country                          2938 non-null   object \n",
      " 1   Year                             2938 non-null   int64  \n",
      " 2   Status                           2938 non-null   object \n",
      " 3   Life expectancy                  2928 non-null   float64\n",
      " 4   Adult Mortality                  2928 non-null   float64\n",
      " 5   infant deaths                    2938 non-null   int64  \n",
      " 6   Alcohol                          2744 non-null   float64\n",
      " 7   percentage expenditure           2938 non-null   float64\n",
      " 8   Hepatitis B                      2385 non-null   float64\n",
      " 9   Measles                          2938 non-null   int64  \n",
      " 10   BMI                             2904 non-null   float64\n",
      " 11  under-five deaths                2938 non-null   int64  \n",
      " 12  Polio                            2919 non-null   float64\n",
      " 13  Total expenditure                2712 non-null   float64\n",
      " 14  Diphtheria                       2919 non-null   float64\n",
      " 15   HIV/AIDS                        2938 non-null   float64\n",
      " 16  GDP                              2490 non-null   float64\n",
      " 17  Population                       2286 non-null   float64\n",
      " 18   thinness  1-19 years            2904 non-null   float64\n",
      " 19   thinness 5-9 years              2904 non-null   float64\n",
      " 20  Income composition of resources  2771 non-null   float64\n",
      " 21  Schooling                        2775 non-null   float64\n",
      "dtypes: float64(16), int64(4), object(2)\n",
      "memory usage: 505.1+ KB\n"
     ]
    }
   ],
   "source": [
    "df.info()"
   ]
  },
  {
   "cell_type": "code",
   "execution_count": 5,
   "id": "1db3325f",
   "metadata": {},
   "outputs": [
    {
     "data": {
      "text/plain": [
       "Country                              0\n",
       "Year                                 0\n",
       "Status                               0\n",
       "Life expectancy                     10\n",
       "Adult Mortality                     10\n",
       "infant deaths                        0\n",
       "Alcohol                            194\n",
       "percentage expenditure               0\n",
       "Hepatitis B                        553\n",
       "Measles                              0\n",
       " BMI                                34\n",
       "under-five deaths                    0\n",
       "Polio                               19\n",
       "Total expenditure                  226\n",
       "Diphtheria                          19\n",
       " HIV/AIDS                            0\n",
       "GDP                                448\n",
       "Population                         652\n",
       " thinness  1-19 years               34\n",
       " thinness 5-9 years                 34\n",
       "Income composition of resources    167\n",
       "Schooling                          163\n",
       "dtype: int64"
      ]
     },
     "execution_count": 5,
     "metadata": {},
     "output_type": "execute_result"
    }
   ],
   "source": [
    "df.isna().sum()"
   ]
  },
  {
   "cell_type": "code",
   "execution_count": 6,
   "id": "b6b68548",
   "metadata": {},
   "outputs": [
    {
     "data": {
      "text/plain": [
       "193"
      ]
     },
     "execution_count": 6,
     "metadata": {},
     "output_type": "execute_result"
    }
   ],
   "source": [
    "# 3.1 Country\n",
    "df[\"Country\"].nunique()"
   ]
  },
  {
   "cell_type": "code",
   "execution_count": 7,
   "id": "408745bf",
   "metadata": {},
   "outputs": [
    {
     "data": {
      "text/plain": [
       "array(['Afghanistan', 'Albania', 'Algeria', 'Angola',\n",
       "       'Antigua and Barbuda', 'Argentina', 'Armenia', 'Australia',\n",
       "       'Austria', 'Azerbaijan', 'Bahamas', 'Bahrain', 'Bangladesh',\n",
       "       'Barbados', 'Belarus', 'Belgium', 'Belize', 'Benin', 'Bhutan',\n",
       "       'Bolivia (Plurinational State of)', 'Bosnia and Herzegovina',\n",
       "       'Botswana', 'Brazil', 'Brunei Darussalam', 'Bulgaria',\n",
       "       'Burkina Faso', 'Burundi', \"Côte d'Ivoire\", 'Cabo Verde',\n",
       "       'Cambodia', 'Cameroon', 'Canada', 'Central African Republic',\n",
       "       'Chad', 'Chile', 'China', 'Colombia', 'Comoros', 'Congo',\n",
       "       'Cook Islands', 'Costa Rica', 'Croatia', 'Cuba', 'Cyprus',\n",
       "       'Czechia', \"Democratic People's Republic of Korea\",\n",
       "       'Democratic Republic of the Congo', 'Denmark', 'Djibouti',\n",
       "       'Dominica', 'Dominican Republic', 'Ecuador', 'Egypt',\n",
       "       'El Salvador', 'Equatorial Guinea', 'Eritrea', 'Estonia',\n",
       "       'Ethiopia', 'Fiji', 'Finland', 'France', 'Gabon', 'Gambia',\n",
       "       'Georgia', 'Germany', 'Ghana', 'Greece', 'Grenada', 'Guatemala',\n",
       "       'Guinea', 'Guinea-Bissau', 'Guyana', 'Haiti', 'Honduras',\n",
       "       'Hungary', 'Iceland', 'India', 'Indonesia',\n",
       "       'Iran (Islamic Republic of)', 'Iraq', 'Ireland', 'Israel', 'Italy',\n",
       "       'Jamaica', 'Japan', 'Jordan', 'Kazakhstan', 'Kenya', 'Kiribati',\n",
       "       'Kuwait', 'Kyrgyzstan', \"Lao People's Democratic Republic\",\n",
       "       'Latvia', 'Lebanon', 'Lesotho', 'Liberia', 'Libya', 'Lithuania',\n",
       "       'Luxembourg', 'Madagascar', 'Malawi', 'Malaysia', 'Maldives',\n",
       "       'Mali', 'Malta', 'Marshall Islands', 'Mauritania', 'Mauritius',\n",
       "       'Mexico', 'Micronesia (Federated States of)', 'Monaco', 'Mongolia',\n",
       "       'Montenegro', 'Morocco', 'Mozambique', 'Myanmar', 'Namibia',\n",
       "       'Nauru', 'Nepal', 'Netherlands', 'New Zealand', 'Nicaragua',\n",
       "       'Niger', 'Nigeria', 'Niue', 'Norway', 'Oman', 'Pakistan', 'Palau',\n",
       "       'Panama', 'Papua New Guinea', 'Paraguay', 'Peru', 'Philippines',\n",
       "       'Poland', 'Portugal', 'Qatar', 'Republic of Korea',\n",
       "       'Republic of Moldova', 'Romania', 'Russian Federation', 'Rwanda',\n",
       "       'Saint Kitts and Nevis', 'Saint Lucia',\n",
       "       'Saint Vincent and the Grenadines', 'Samoa', 'San Marino',\n",
       "       'Sao Tome and Principe', 'Saudi Arabia', 'Senegal', 'Serbia',\n",
       "       'Seychelles', 'Sierra Leone', 'Singapore', 'Slovakia', 'Slovenia',\n",
       "       'Solomon Islands', 'Somalia', 'South Africa', 'South Sudan',\n",
       "       'Spain', 'Sri Lanka', 'Sudan', 'Suriname', 'Swaziland', 'Sweden',\n",
       "       'Switzerland', 'Syrian Arab Republic', 'Tajikistan', 'Thailand',\n",
       "       'The former Yugoslav republic of Macedonia', 'Timor-Leste', 'Togo',\n",
       "       'Tonga', 'Trinidad and Tobago', 'Tunisia', 'Turkey',\n",
       "       'Turkmenistan', 'Tuvalu', 'Uganda', 'Ukraine',\n",
       "       'United Arab Emirates',\n",
       "       'United Kingdom of Great Britain and Northern Ireland',\n",
       "       'United Republic of Tanzania', 'United States of America',\n",
       "       'Uruguay', 'Uzbekistan', 'Vanuatu',\n",
       "       'Venezuela (Bolivarian Republic of)', 'Viet Nam', 'Yemen',\n",
       "       'Zambia', 'Zimbabwe'], dtype=object)"
      ]
     },
     "execution_count": 7,
     "metadata": {},
     "output_type": "execute_result"
    }
   ],
   "source": [
    "df[\"Country\"].unique()"
   ]
  },
  {
   "cell_type": "code",
   "execution_count": 8,
   "id": "5b5e48cb",
   "metadata": {},
   "outputs": [
    {
     "data": {
      "text/plain": [
       "Developing    2426\n",
       "Developed      512\n",
       "Name: Status, dtype: int64"
      ]
     },
     "execution_count": 8,
     "metadata": {},
     "output_type": "execute_result"
    }
   ],
   "source": [
    "# 3.3: Status\n",
    "# Dtype=Objetc So Label Encoding\n",
    "df[\"Status\"].value_counts()"
   ]
  },
  {
   "cell_type": "code",
   "execution_count": 9,
   "id": "9cf68c70",
   "metadata": {},
   "outputs": [
    {
     "data": {
      "text/plain": [
       "<AxesSubplot:xlabel='Life expectancy ', ylabel='Density'>"
      ]
     },
     "execution_count": 9,
     "metadata": {},
     "output_type": "execute_result"
    },
    {
     "data": {
      "image/png": "[encoded data removed]",
      "text/plain": [
       "<Figure size 432x288 with 1 Axes>"
      ]
     },
     "metadata": {
      "needs_background": "light"
     },
     "output_type": "display_data"
    }
   ],
   "source": [
    "# 3.4 Life expectancy\n",
    "sns.kdeplot(df[\"Life expectancy \"])\n",
    "# find Median/mode/mean"
   ]
  },
  {
   "cell_type": "code",
   "execution_count": 10,
   "id": "3098df1f",
   "metadata": {},
   "outputs": [
    {
     "data": {
      "text/plain": [
       "<AxesSubplot:xlabel='Adult Mortality', ylabel='Density'>"
      ]
     },
     "execution_count": 10,
     "metadata": {},
     "output_type": "execute_result"
    },
    {
     "data": {
      "image/png": "[encoded data removed]",
      "text/plain": [
       "<Figure size 432x288 with 1 Axes>"
      ]
     },
     "metadata": {
      "needs_background": "light"
     },
     "output_type": "display_data"
    }
   ],
   "source": [
    "# 3.5  Adult Mortality\n",
    "sns.kdeplot(df[\"Adult Mortality\"])\n",
    "# find Median/mode/mean"
   ]
  },
  {
   "cell_type": "code",
   "execution_count": 11,
   "id": "e0cbaab7",
   "metadata": {},
   "outputs": [
    {
     "data": {
      "text/plain": [
       "<AxesSubplot:xlabel='infant deaths', ylabel='Density'>"
      ]
     },
     "execution_count": 11,
     "metadata": {},
     "output_type": "execute_result"
    },
    {
     "data": {
      "image/png": "[encoded data removed]",
      "text/plain": [
       "<Figure size 432x288 with 1 Axes>"
      ]
     },
     "metadata": {
      "needs_background": "light"
     },
     "output_type": "display_data"
    }
   ],
   "source": [
    "# 3.6 infant deaths\n",
    "sns.kdeplot(df[\"infant deaths\"])\n",
    "# find Mean,Mode,Median"
   ]
  },
  {
   "cell_type": "code",
   "execution_count": 12,
   "id": "a4fc38d8",
   "metadata": {},
   "outputs": [
    {
     "data": {
      "text/plain": [
       "<AxesSubplot:xlabel='Alcohol', ylabel='Density'>"
      ]
     },
     "execution_count": 12,
     "metadata": {},
     "output_type": "execute_result"
    },
    {
     "data": {
      "image/png": "[encoded data removed]",
      "text/plain": [
       "<Figure size 432x288 with 1 Axes>"
      ]
     },
     "metadata": {
      "needs_background": "light"
     },
     "output_type": "display_data"
    }
   ],
   "source": [
    "# 3.7 Alcohol\n",
    "sns.kdeplot(df[\"Alcohol\"])\n",
    "# find Median"
   ]
  },
  {
   "cell_type": "code",
   "execution_count": 13,
   "id": "5ded04b3",
   "metadata": {},
   "outputs": [
    {
     "data": {
      "text/plain": [
       "<AxesSubplot:xlabel='percentage expenditure', ylabel='Density'>"
      ]
     },
     "execution_count": 13,
     "metadata": {},
     "output_type": "execute_result"
    },
    {
     "data": {
      "image/png": "[encoded data removed]",
      "text/plain": [
       "<Figure size 432x288 with 1 Axes>"
      ]
     },
     "metadata": {
      "needs_background": "light"
     },
     "output_type": "display_data"
    }
   ],
   "source": [
    "# 3.8 'percentage expenditure'\n",
    "sns.kdeplot(df['percentage expenditure'])\n",
    "# find Median"
   ]
  },
  {
   "cell_type": "code",
   "execution_count": 14,
   "id": "f49183c1",
   "metadata": {},
   "outputs": [
    {
     "data": {
      "text/plain": [
       "<AxesSubplot:xlabel='Hepatitis B', ylabel='Density'>"
      ]
     },
     "execution_count": 14,
     "metadata": {},
     "output_type": "execute_result"
    },
    {
     "data": {
      "image/png": "[encoded data removed]",
      "text/plain": [
       "<Figure size 432x288 with 1 Axes>"
      ]
     },
     "metadata": {
      "needs_background": "light"
     },
     "output_type": "display_data"
    }
   ],
   "source": [
    "# 3.9 'Hepatitis B'\n",
    "sns.kdeplot(df['Hepatitis B'])"
   ]
  },
  {
   "cell_type": "code",
   "execution_count": 15,
   "id": "70c56135",
   "metadata": {},
   "outputs": [
    {
     "data": {
      "text/plain": [
       "<AxesSubplot:xlabel='Measles ', ylabel='Density'>"
      ]
     },
     "execution_count": 15,
     "metadata": {},
     "output_type": "execute_result"
    },
    {
     "data": {
      "image/png": "[encoded data removed]",
      "text/plain": [
       "<Figure size 432x288 with 1 Axes>"
      ]
     },
     "metadata": {
      "needs_background": "light"
     },
     "output_type": "display_data"
    }
   ],
   "source": [
    "# 3.10 'Measles '\n",
    "sns.kdeplot(df['Measles '])"
   ]
  },
  {
   "cell_type": "code",
   "execution_count": 16,
   "id": "19722daf",
   "metadata": {},
   "outputs": [
    {
     "data": {
      "text/plain": [
       "<AxesSubplot:xlabel=' BMI ', ylabel='Density'>"
      ]
     },
     "execution_count": 16,
     "metadata": {},
     "output_type": "execute_result"
    },
    {
     "data": {
      "image/png": "[encoded data removed]",
      "text/plain": [
       "<Figure size 432x288 with 1 Axes>"
      ]
     },
     "metadata": {
      "needs_background": "light"
     },
     "output_type": "display_data"
    }
   ],
   "source": [
    "# 3.11 ' BMI '\n",
    "sns.kdeplot(df[' BMI '])"
   ]
  },
  {
   "cell_type": "code",
   "execution_count": 17,
   "id": "26c6654c",
   "metadata": {},
   "outputs": [
    {
     "data": {
      "text/plain": [
       "<AxesSubplot:xlabel='under-five deaths ', ylabel='Density'>"
      ]
     },
     "execution_count": 17,
     "metadata": {},
     "output_type": "execute_result"
    },
    {
     "data": {
      "image/png": "[encoded data removed]",
      "text/plain": [
       "<Figure size 432x288 with 1 Axes>"
      ]
     },
     "metadata": {
      "needs_background": "light"
     },
     "output_type": "display_data"
    }
   ],
   "source": [
    "# 3.12 'under-five deaths '\n",
    "sns.kdeplot(df['under-five deaths '])"
   ]
  },
  {
   "cell_type": "code",
   "execution_count": 18,
   "id": "81ba22bf",
   "metadata": {},
   "outputs": [
    {
     "data": {
      "text/plain": [
       "<AxesSubplot:xlabel='Polio', ylabel='Density'>"
      ]
     },
     "execution_count": 18,
     "metadata": {},
     "output_type": "execute_result"
    },
    {
     "data": {
      "image/png": "[encoded data removed]",
      "text/plain": [
       "<Figure size 432x288 with 1 Axes>"
      ]
     },
     "metadata": {
      "needs_background": "light"
     },
     "output_type": "display_data"
    }
   ],
   "source": [
    "# 3.13  'Polio'\n",
    "sns.kdeplot(df[ 'Polio'])"
   ]
  },
  {
   "cell_type": "code",
   "execution_count": 19,
   "id": "ad4a2820",
   "metadata": {},
   "outputs": [
    {
     "data": {
      "text/plain": [
       "<AxesSubplot:xlabel='Total expenditure', ylabel='Density'>"
      ]
     },
     "execution_count": 19,
     "metadata": {},
     "output_type": "execute_result"
    },
    {
     "data": {
      "image/png": "[encoded data removed]",
      "text/plain": [
       "<Figure size 432x288 with 1 Axes>"
      ]
     },
     "metadata": {
      "needs_background": "light"
     },
     "output_type": "display_data"
    }
   ],
   "source": [
    "# 3.14 'Total expenditure'\n",
    "sns.kdeplot(df['Total expenditure'])"
   ]
  },
  {
   "cell_type": "code",
   "execution_count": 20,
   "id": "0cd8bd23",
   "metadata": {},
   "outputs": [
    {
     "data": {
      "text/plain": [
       "<AxesSubplot:xlabel='Diphtheria ', ylabel='Density'>"
      ]
     },
     "execution_count": 20,
     "metadata": {},
     "output_type": "execute_result"
    },
    {
     "data": {
      "image/png": "[encoded data removed]",
      "text/plain": [
       "<Figure size 432x288 with 1 Axes>"
      ]
     },
     "metadata": {
      "needs_background": "light"
     },
     "output_type": "display_data"
    }
   ],
   "source": [
    "# 3.15 'Diphtheria '\n",
    "sns.kdeplot(df['Diphtheria '])"
   ]
  },
  {
   "cell_type": "code",
   "execution_count": 21,
   "id": "8b7298e5",
   "metadata": {},
   "outputs": [
    {
     "data": {
      "text/plain": [
       "<AxesSubplot:xlabel=' HIV/AIDS', ylabel='Density'>"
      ]
     },
     "execution_count": 21,
     "metadata": {},
     "output_type": "execute_result"
    },
    {
     "data": {
      "image/png": "[encoded data removed]",
      "text/plain": [
       "<Figure size 432x288 with 1 Axes>"
      ]
     },
     "metadata": {
      "needs_background": "light"
     },
     "output_type": "display_data"
    }
   ],
   "source": [
    "# 3.16 ' HIV/AIDS'\n",
    "sns.kdeplot(df[' HIV/AIDS'])"
   ]
  },
  {
   "cell_type": "code",
   "execution_count": 22,
   "id": "08a47c47",
   "metadata": {},
   "outputs": [
    {
     "data": {
      "text/plain": [
       "<AxesSubplot:xlabel='GDP', ylabel='Density'>"
      ]
     },
     "execution_count": 22,
     "metadata": {},
     "output_type": "execute_result"
    },
    {
     "data": {
      "image/png": "[encoded data removed]",
      "text/plain": [
       "<Figure size 432x288 with 1 Axes>"
      ]
     },
     "metadata": {
      "needs_background": "light"
     },
     "output_type": "display_data"
    }
   ],
   "source": [
    "# 3.17 'GDP'\n",
    "sns.kdeplot(df['GDP'])"
   ]
  },
  {
   "cell_type": "code",
   "execution_count": 23,
   "id": "a1c27177",
   "metadata": {},
   "outputs": [
    {
     "data": {
      "text/plain": [
       "<AxesSubplot:xlabel='Population', ylabel='Density'>"
      ]
     },
     "execution_count": 23,
     "metadata": {},
     "output_type": "execute_result"
    },
    {
     "data": {
      "image/png": "[encoded data removed]",
      "text/plain": [
       "<Figure size 432x288 with 1 Axes>"
      ]
     },
     "metadata": {
      "needs_background": "light"
     },
     "output_type": "display_data"
    }
   ],
   "source": [
    "#3.18 'Population'\n",
    "sns.kdeplot(df['Population'])"
   ]
  },
  {
   "cell_type": "code",
   "execution_count": 24,
   "id": "60676071",
   "metadata": {},
   "outputs": [
    {
     "data": {
      "text/plain": [
       "<AxesSubplot:xlabel=' thinness  1-19 years', ylabel='Density'>"
      ]
     },
     "execution_count": 24,
     "metadata": {},
     "output_type": "execute_result"
    },
    {
     "data": {
      "image/png": "[encoded data removed]",
      "text/plain": [
       "<Figure size 432x288 with 1 Axes>"
      ]
     },
     "metadata": {
      "needs_background": "light"
     },
     "output_type": "display_data"
    }
   ],
   "source": [
    "# 3.19 ' thinness  1-19 years'\n",
    "sns.kdeplot(df[' thinness  1-19 years'])"
   ]
  },
  {
   "cell_type": "code",
   "execution_count": 25,
   "id": "be6187c5",
   "metadata": {},
   "outputs": [
    {
     "data": {
      "text/plain": [
       "<AxesSubplot:xlabel='Income composition of resources', ylabel='Density'>"
      ]
     },
     "execution_count": 25,
     "metadata": {},
     "output_type": "execute_result"
    },
    {
     "data": {
      "image/png": "[encoded data removed]",
      "text/plain": [
       "<Figure size 432x288 with 1 Axes>"
      ]
     },
     "metadata": {
      "needs_background": "light"
     },
     "output_type": "display_data"
    }
   ],
   "source": [
    "# 3.20 'Income composition of resources'\n",
    "sns.kdeplot(df['Income composition of resources'])"
   ]
  },
  {
   "cell_type": "code",
   "execution_count": 26,
   "id": "5248af1c",
   "metadata": {},
   "outputs": [
    {
     "data": {
      "text/plain": [
       "<AxesSubplot:xlabel='Schooling', ylabel='Density'>"
      ]
     },
     "execution_count": 26,
     "metadata": {},
     "output_type": "execute_result"
    },
    {
     "data": {
      "image/png": "[encoded data removed]",
      "text/plain": [
       "<Figure size 432x288 with 1 Axes>"
      ]
     },
     "metadata": {
      "needs_background": "light"
     },
     "output_type": "display_data"
    }
   ],
   "source": [
    "# 3.21 'Schooling'\n",
    "sns.kdeplot(df['Schooling'])"
   ]
  },
  {
   "cell_type": "code",
   "execution_count": 27,
   "id": "24280d0f",
   "metadata": {},
   "outputs": [],
   "source": [
    "# Feature Engineering"
   ]
  },
  {
   "cell_type": "code",
   "execution_count": 28,
   "id": "e23dd7d7",
   "metadata": {},
   "outputs": [],
   "source": [
    "# 4.1 Country"
   ]
  },
  {
   "cell_type": "code",
   "execution_count": 29,
   "id": "bec80a58",
   "metadata": {},
   "outputs": [
    {
     "data": {
      "text/plain": [
       "dtype('O')"
      ]
     },
     "execution_count": 29,
     "metadata": {},
     "output_type": "execute_result"
    }
   ],
   "source": [
    "df.Country.dtype\n",
    "#dependacy on output is less so it will skip"
   ]
  },
  {
   "cell_type": "code",
   "execution_count": 30,
   "id": "23503e18",
   "metadata": {},
   "outputs": [
    {
     "data": {
      "text/plain": [
       "<AxesSubplot:xlabel='Year', ylabel='Density'>"
      ]
     },
     "execution_count": 30,
     "metadata": {},
     "output_type": "execute_result"
    },
    {
     "data": {
      "image/png": "[encoded data removed]",
      "text/plain": [
       "<Figure size 432x288 with 1 Axes>"
      ]
     },
     "metadata": {
      "needs_background": "light"
     },
     "output_type": "display_data"
    }
   ],
   "source": [
    "# 4.2 'Year'\n",
    "sns.kdeplot(df[\"Year\"])"
   ]
  },
  {
   "cell_type": "code",
   "execution_count": 31,
   "id": "e07c4179",
   "metadata": {},
   "outputs": [],
   "source": [
    "# 4.3 Status\n",
    "df[\"Status\"].replace({\"Developing\":0,\"Developed\":1},inplace=True)"
   ]
  },
  {
   "cell_type": "code",
   "execution_count": 32,
   "id": "9fe85098",
   "metadata": {},
   "outputs": [
    {
     "data": {
      "text/plain": [
       "<AxesSubplot:xlabel='Status', ylabel='Density'>"
      ]
     },
     "execution_count": 32,
     "metadata": {},
     "output_type": "execute_result"
    },
    {
     "data": {
      "image/png": "[encoded data removed]",
      "text/plain": [
       "<Figure size 432x288 with 1 Axes>"
      ]
     },
     "metadata": {
      "needs_background": "light"
     },
     "output_type": "display_data"
    }
   ],
   "source": [
    "sns.kdeplot(df[\"Status\"])"
   ]
  },
  {
   "cell_type": "code",
   "execution_count": 33,
   "id": "44b1a8ce",
   "metadata": {},
   "outputs": [],
   "source": [
    "# 4.4 'Life expectancy '\n",
    "df['Life expectancy '].fillna(df['Life expectancy '].median(),inplace=True)\n",
    "df['Life expectancy '] = df['Life expectancy '].astype(int)"
   ]
  },
  {
   "cell_type": "code",
   "execution_count": 34,
   "id": "000bf417",
   "metadata": {},
   "outputs": [
    {
     "data": {
      "text/plain": [
       "<AxesSubplot:xlabel='Life expectancy ', ylabel='Density'>"
      ]
     },
     "execution_count": 34,
     "metadata": {},
     "output_type": "execute_result"
    },
    {
     "data": {
      "image/png": "[encoded data removed]",
      "text/plain": [
       "<Figure size 432x288 with 1 Axes>"
      ]
     },
     "metadata": {
      "needs_background": "light"
     },
     "output_type": "display_data"
    }
   ],
   "source": [
    "sns.kdeplot(df['Life expectancy '])"
   ]
  },
  {
   "cell_type": "code",
   "execution_count": 35,
   "id": "043a8446",
   "metadata": {},
   "outputs": [],
   "source": [
    "# 4.5 'Adult Mortality'\n",
    "df['Adult Mortality'].fillna(df['Adult Mortality'].median(),inplace=True)\n",
    "df['Adult Mortality']=df['Adult Mortality'].astype(int)"
   ]
  },
  {
   "cell_type": "code",
   "execution_count": 36,
   "id": "9b3e4d7e",
   "metadata": {},
   "outputs": [
    {
     "data": {
      "text/plain": [
       "<AxesSubplot:xlabel='Adult Mortality', ylabel='Density'>"
      ]
     },
     "execution_count": 36,
     "metadata": {},
     "output_type": "execute_result"
    },
    {
     "data": {
      "image/png": "[encoded data removed]",
      "text/plain": [
       "<Figure size 432x288 with 1 Axes>"
      ]
     },
     "metadata": {
      "needs_background": "light"
     },
     "output_type": "display_data"
    }
   ],
   "source": [
    "sns.kdeplot(df['Adult Mortality'])"
   ]
  },
  {
   "cell_type": "code",
   "execution_count": 37,
   "id": "702fefd1",
   "metadata": {},
   "outputs": [
    {
     "data": {
      "text/plain": [
       "<AxesSubplot:xlabel='infant deaths', ylabel='Density'>"
      ]
     },
     "execution_count": 37,
     "metadata": {},
     "output_type": "execute_result"
    },
    {
     "data": {
      "image/png": "[encoded data removed]",
      "text/plain": [
       "<Figure size 432x288 with 1 Axes>"
      ]
     },
     "metadata": {
      "needs_background": "light"
     },
     "output_type": "display_data"
    }
   ],
   "source": [
    "# 4.6 'infant deaths'\n",
    "sns.kdeplot(df[\"infant deaths\"])"
   ]
  },
  {
   "cell_type": "code",
   "execution_count": 38,
   "id": "c875bb6a",
   "metadata": {},
   "outputs": [],
   "source": [
    "# 4.7 'Alcohol'\n",
    "df['Alcohol'].fillna(df['Alcohol'].median(),inplace=True)\n",
    "df['Alcohol']=df['Alcohol'].astype(int)"
   ]
  },
  {
   "cell_type": "code",
   "execution_count": 39,
   "id": "c1a07fe2",
   "metadata": {},
   "outputs": [
    {
     "data": {
      "text/plain": [
       "<AxesSubplot:xlabel='Alcohol', ylabel='Density'>"
      ]
     },
     "execution_count": 39,
     "metadata": {},
     "output_type": "execute_result"
    },
    {
     "data": {
      "image/png": "[encoded data removed]",
      "text/plain": [
       "<Figure size 432x288 with 1 Axes>"
      ]
     },
     "metadata": {
      "needs_background": "light"
     },
     "output_type": "display_data"
    }
   ],
   "source": [
    "sns.kdeplot(df['Alcohol'])"
   ]
  },
  {
   "cell_type": "code",
   "execution_count": 40,
   "id": "fbc22d59",
   "metadata": {},
   "outputs": [
    {
     "data": {
      "text/plain": [
       "<AxesSubplot:xlabel='percentage expenditure', ylabel='Density'>"
      ]
     },
     "execution_count": 40,
     "metadata": {},
     "output_type": "execute_result"
    },
    {
     "data": {
      "image/png": "[encoded data removed]",
      "text/plain": [
       "<Figure size 432x288 with 1 Axes>"
      ]
     },
     "metadata": {
      "needs_background": "light"
     },
     "output_type": "display_data"
    }
   ],
   "source": [
    "# 4.8 percentage expenditure\n",
    "df['percentage expenditure']=df['percentage expenditure'].astype(int)\n",
    "sns.kdeplot(df['percentage expenditure'])"
   ]
  },
  {
   "cell_type": "code",
   "execution_count": 41,
   "id": "b1869f32",
   "metadata": {},
   "outputs": [],
   "source": [
    "# 4.9 Hepatitis B"
   ]
  },
  {
   "cell_type": "code",
   "execution_count": 42,
   "id": "505c9823",
   "metadata": {},
   "outputs": [
    {
     "data": {
      "text/plain": [
       "<AxesSubplot:xlabel='Hepatitis B', ylabel='Density'>"
      ]
     },
     "execution_count": 42,
     "metadata": {},
     "output_type": "execute_result"
    },
    {
     "data": {
      "image/png": "[encoded data removed]",
      "text/plain": [
       "<Figure size 432x288 with 1 Axes>"
      ]
     },
     "metadata": {
      "needs_background": "light"
     },
     "output_type": "display_data"
    }
   ],
   "source": [
    "df['Hepatitis B'].fillna(df['Hepatitis B'].median(),inplace=True)\n",
    "df['Hepatitis B']=df['Hepatitis B'].astype(int)\n",
    "sns.kdeplot(df['Hepatitis B'])"
   ]
  },
  {
   "cell_type": "code",
   "execution_count": 43,
   "id": "1b0d7495",
   "metadata": {},
   "outputs": [
    {
     "data": {
      "text/plain": [
       "<AxesSubplot:xlabel='Measles ', ylabel='Density'>"
      ]
     },
     "execution_count": 43,
     "metadata": {},
     "output_type": "execute_result"
    },
    {
     "data": {
      "image/png": "[encoded data removed]",
      "text/plain": [
       "<Figure size 432x288 with 1 Axes>"
      ]
     },
     "metadata": {
      "needs_background": "light"
     },
     "output_type": "display_data"
    }
   ],
   "source": [
    "# 4.10 'Measles '\n",
    "sns.kdeplot(df['Measles '])"
   ]
  },
  {
   "cell_type": "code",
   "execution_count": 44,
   "id": "21c69b34",
   "metadata": {},
   "outputs": [
    {
     "data": {
      "text/plain": [
       "<AxesSubplot:xlabel=' BMI ', ylabel='Density'>"
      ]
     },
     "execution_count": 44,
     "metadata": {},
     "output_type": "execute_result"
    },
    {
     "data": {
      "image/png": "[encoded data removed]",
      "text/plain": [
       "<Figure size 432x288 with 1 Axes>"
      ]
     },
     "metadata": {
      "needs_background": "light"
     },
     "output_type": "display_data"
    }
   ],
   "source": [
    "# 4.11 BMI\n",
    "df[ ' BMI '].fillna(df[ ' BMI '].median(),inplace=True)\n",
    "df[ ' BMI ']=df[ ' BMI '].astype(int)\n",
    "sns.kdeplot(df[ ' BMI '])"
   ]
  },
  {
   "cell_type": "code",
   "execution_count": 45,
   "id": "b6c0118f",
   "metadata": {},
   "outputs": [
    {
     "data": {
      "text/plain": [
       "<AxesSubplot:xlabel='under-five deaths ', ylabel='Density'>"
      ]
     },
     "execution_count": 45,
     "metadata": {},
     "output_type": "execute_result"
    },
    {
     "data": {
      "image/png": "[encoded data removed]",
      "text/plain": [
       "<Figure size 432x288 with 1 Axes>"
      ]
     },
     "metadata": {
      "needs_background": "light"
     },
     "output_type": "display_data"
    }
   ],
   "source": [
    "# 4.12 'under-five deaths '\n",
    "sns.kdeplot(df['under-five deaths '])"
   ]
  },
  {
   "cell_type": "code",
   "execution_count": 46,
   "id": "f41a2d50",
   "metadata": {},
   "outputs": [
    {
     "data": {
      "text/plain": [
       "<AxesSubplot:xlabel='Polio', ylabel='Density'>"
      ]
     },
     "execution_count": 46,
     "metadata": {},
     "output_type": "execute_result"
    },
    {
     "data": {
      "image/png": "[encoded data removed]",
      "text/plain": [
       "<Figure size 432x288 with 1 Axes>"
      ]
     },
     "metadata": {
      "needs_background": "light"
     },
     "output_type": "display_data"
    }
   ],
   "source": [
    "# 4.13 polio\n",
    "df['Polio'].fillna(df['Polio'].median(),inplace=True)\n",
    "df['Polio']=df['Polio'].astype(int)\n",
    "sns.kdeplot(df['Polio'])"
   ]
  },
  {
   "cell_type": "code",
   "execution_count": 47,
   "id": "1df2157c",
   "metadata": {},
   "outputs": [
    {
     "data": {
      "text/plain": [
       "<AxesSubplot:xlabel='Total expenditure', ylabel='Density'>"
      ]
     },
     "execution_count": 47,
     "metadata": {},
     "output_type": "execute_result"
    },
    {
     "data": {
      "image/png": "[encoded data removed]",
      "text/plain": [
       "<Figure size 432x288 with 1 Axes>"
      ]
     },
     "metadata": {
      "needs_background": "light"
     },
     "output_type": "display_data"
    }
   ],
   "source": [
    "# 4.14 'Total expenditure'\n",
    "df['Total expenditure'].fillna(df['Total expenditure'].median(),inplace=True)\n",
    "df['Total expenditure']=df['Total expenditure'].astype(int)\n",
    "sns.kdeplot(df['Total expenditure'])"
   ]
  },
  {
   "cell_type": "code",
   "execution_count": 48,
   "id": "f4a6bd99",
   "metadata": {},
   "outputs": [
    {
     "data": {
      "text/plain": [
       "<AxesSubplot:xlabel='Diphtheria ', ylabel='Density'>"
      ]
     },
     "execution_count": 48,
     "metadata": {},
     "output_type": "execute_result"
    },
    {
     "data": {
      "image/png": "[encoded data removed]",
      "text/plain": [
       "<Figure size 432x288 with 1 Axes>"
      ]
     },
     "metadata": {
      "needs_background": "light"
     },
     "output_type": "display_data"
    }
   ],
   "source": [
    "# 4.15 'Diphtheria '\n",
    "df[ 'Diphtheria '].fillna(df['Diphtheria '].median(),inplace=True)\n",
    "df[ 'Diphtheria ']=df[ 'Diphtheria '].astype(int)\n",
    "sns.kdeplot(df['Diphtheria '])"
   ]
  },
  {
   "cell_type": "code",
   "execution_count": 49,
   "id": "df99f07c",
   "metadata": {},
   "outputs": [
    {
     "data": {
      "text/plain": [
       "<AxesSubplot:xlabel=' HIV/AIDS', ylabel='Density'>"
      ]
     },
     "execution_count": 49,
     "metadata": {},
     "output_type": "execute_result"
    },
    {
     "data": {
      "image/png": "[encoded data removed]",
      "text/plain": [
       "<Figure size 432x288 with 1 Axes>"
      ]
     },
     "metadata": {
      "needs_background": "light"
     },
     "output_type": "display_data"
    }
   ],
   "source": [
    "# 4.16' HIV/AIDS'\n",
    "df[' HIV/AIDS']=df[' HIV/AIDS'].astype(int)\n",
    "sns.kdeplot(df[' HIV/AIDS'])"
   ]
  },
  {
   "cell_type": "code",
   "execution_count": 50,
   "id": "e4d05e12",
   "metadata": {},
   "outputs": [
    {
     "data": {
      "text/plain": [
       "<AxesSubplot:xlabel='GDP', ylabel='Density'>"
      ]
     },
     "execution_count": 50,
     "metadata": {},
     "output_type": "execute_result"
    },
    {
     "data": {
      "image/png": "[encoded data removed]",
      "text/plain": [
       "<Figure size 432x288 with 1 Axes>"
      ]
     },
     "metadata": {
      "needs_background": "light"
     },
     "output_type": "display_data"
    }
   ],
   "source": [
    "# 4.17 'GDP'\n",
    "df['GDP'].fillna(df['GDP'].median(),inplace=True)\n",
    "df['GDP']=df['GDP'].astype(int)\n",
    "sns.kdeplot(df['GDP'])"
   ]
  },
  {
   "cell_type": "code",
   "execution_count": 51,
   "id": "66e66dfd",
   "metadata": {},
   "outputs": [
    {
     "data": {
      "text/plain": [
       "<AxesSubplot:xlabel='Population', ylabel='Density'>"
      ]
     },
     "execution_count": 51,
     "metadata": {},
     "output_type": "execute_result"
    },
    {
     "data": {
      "image/png": "[encoded data removed]",
      "text/plain": [
       "<Figure size 432x288 with 1 Axes>"
      ]
     },
     "metadata": {
      "needs_background": "light"
     },
     "output_type": "display_data"
    }
   ],
   "source": [
    "# 4.18 'Population'\n",
    "df['Population'].fillna(df['Population'].median(),inplace=True)\n",
    "df['Population']=df['Population'].astype(int)\n",
    "sns.kdeplot(df['Population'])"
   ]
  },
  {
   "cell_type": "code",
   "execution_count": 52,
   "id": "f68ca418",
   "metadata": {},
   "outputs": [
    {
     "data": {
      "text/plain": [
       "<AxesSubplot:xlabel=' thinness  1-19 years', ylabel='Density'>"
      ]
     },
     "execution_count": 52,
     "metadata": {},
     "output_type": "execute_result"
    },
    {
     "data": {
      "image/png": "[encoded data removed]",
      "text/plain": [
       "<Figure size 432x288 with 1 Axes>"
      ]
     },
     "metadata": {
      "needs_background": "light"
     },
     "output_type": "display_data"
    }
   ],
   "source": [
    "# 4.19 ' thinness  1-19 years'\n",
    "df[' thinness  1-19 years'].fillna(df[' thinness  1-19 years'].median(),inplace=True)\n",
    "df[' thinness  1-19 years']=df[' thinness  1-19 years'].astype(int)\n",
    "sns.kdeplot(df[' thinness  1-19 years'])"
   ]
  },
  {
   "cell_type": "code",
   "execution_count": 53,
   "id": "0c223273",
   "metadata": {},
   "outputs": [
    {
     "data": {
      "text/plain": [
       "<AxesSubplot:xlabel=' thinness 5-9 years', ylabel='Density'>"
      ]
     },
     "execution_count": 53,
     "metadata": {},
     "output_type": "execute_result"
    },
    {
     "data": {
      "image/png": "[encoded data removed]",
      "text/plain": [
       "<Figure size 432x288 with 1 Axes>"
      ]
     },
     "metadata": {
      "needs_background": "light"
     },
     "output_type": "display_data"
    }
   ],
   "source": [
    "# 4.20 ' thinness 5-9 years'\n",
    "df[' thinness 5-9 years'].fillna(df[' thinness 5-9 years'].median(),inplace=True)\n",
    "df[' thinness 5-9 years']=df[' thinness 5-9 years'].astype(int)\n",
    "sns.kdeplot(df[' thinness 5-9 years'])"
   ]
  },
  {
   "cell_type": "code",
   "execution_count": 54,
   "id": "098476b2",
   "metadata": {},
   "outputs": [
    {
     "data": {
      "text/plain": [
       "<AxesSubplot:xlabel='Income composition of resources', ylabel='Density'>"
      ]
     },
     "execution_count": 54,
     "metadata": {},
     "output_type": "execute_result"
    },
    {
     "data": {
      "image/png": "[encoded data removed]",
      "text/plain": [
       "<Figure size 432x288 with 1 Axes>"
      ]
     },
     "metadata": {
      "needs_background": "light"
     },
     "output_type": "display_data"
    }
   ],
   "source": [
    "# 4.21 'Income composition of resources'\n",
    "df['Income composition of resources'].fillna(df['Income composition of resources'].median(),inplace=True)\n",
    "sns.kdeplot(df['Income composition of resources'])"
   ]
  },
  {
   "cell_type": "code",
   "execution_count": 55,
   "id": "79f8cdbd",
   "metadata": {},
   "outputs": [
    {
     "data": {
      "text/plain": [
       "<AxesSubplot:xlabel='Schooling', ylabel='Density'>"
      ]
     },
     "execution_count": 55,
     "metadata": {},
     "output_type": "execute_result"
    },
    {
     "data": {
      "image/png": "[encoded data removed]",
      "text/plain": [
       "<Figure size 432x288 with 1 Axes>"
      ]
     },
     "metadata": {
      "needs_background": "light"
     },
     "output_type": "display_data"
    }
   ],
   "source": [
    "# 4.22 'Schooling'\n",
    "df['Schooling'].fillna(df['Schooling'].median(),inplace=True)\n",
    "df['Schooling']=df['Schooling'].astype(int)\n",
    "sns.kdeplot(df['Schooling'])"
   ]
  },
  {
   "cell_type": "markdown",
   "id": "642823f9",
   "metadata": {},
   "source": [
    "5. Feature Selection\n",
    "selected Features = 'Status', 'Adult Mortality',\n",
    "       'infant deaths', 'Alcohol', 'percentage expenditure', 'Hepatitis B',\n",
    "       'Measles ', ' BMI ', 'under-five deaths ', 'Polio', 'Total expenditure',\n",
    "       'Diphtheria ', ' HIV/AIDS', 'GDP', 'Population',\n",
    "       ' thinness  1-19 years', ' thinness 5-9 years',\n",
    "       'Income composition of resources', 'Schooling'"
   ]
  },
  {
   "cell_type": "code",
   "execution_count": 56,
   "id": "640e44ec",
   "metadata": {},
   "outputs": [],
   "source": [
    "# 6.Model Training"
   ]
  },
  {
   "cell_type": "code",
   "execution_count": 57,
   "id": "a001e029",
   "metadata": {},
   "outputs": [
    {
     "data": {
      "text/plain": [
       "((2938, 18), (2938,))"
      ]
     },
     "execution_count": 57,
     "metadata": {},
     "output_type": "execute_result"
    }
   ],
   "source": [
    "x=df.drop(['Life expectancy ','Country','Year','Income composition of resources'],axis=1)\n",
    "y=df['Life expectancy ']\n",
    "x.shape,y.shape"
   ]
  },
  {
   "cell_type": "code",
   "execution_count": 58,
   "id": "11e3d914",
   "metadata": {},
   "outputs": [],
   "source": [
    "x_train,x_test,y_train,y_test=train_test_split(x,y,train_size=0.7,random_state=7)"
   ]
  },
  {
   "cell_type": "code",
   "execution_count": 59,
   "id": "fd0fa2e9",
   "metadata": {},
   "outputs": [
    {
     "data": {
      "text/plain": [
       "LinearRegression()"
      ]
     },
     "execution_count": 59,
     "metadata": {},
     "output_type": "execute_result"
    }
   ],
   "source": [
    "m1=LinearRegression()\n",
    "m1.fit(x_train,y_train)"
   ]
  },
  {
   "cell_type": "code",
   "execution_count": 60,
   "id": "ecf5cd6b",
   "metadata": {},
   "outputs": [],
   "source": [
    "# 7.Model Evaluation"
   ]
  },
  {
   "cell_type": "code",
   "execution_count": 61,
   "id": "cf214d1d",
   "metadata": {},
   "outputs": [
    {
     "name": "stdout",
     "output_type": "stream",
     "text": [
      "MSE = \n",
      " 16.620328335165986\n",
      "RMSE = \n",
      " 4.076803691026339\n",
      "MAE = \n",
      "3.046523160877897\n",
      "R-Squared Value = \n",
      " 0.8142609895965707\n",
      "ADJUSTED R - SQUARED VALUE =\n",
      " 0.8126197023176007\n"
     ]
    },
    {
     "data": {
      "text/plain": [
       "'Success'"
      ]
     },
     "execution_count": 61,
     "metadata": {},
     "output_type": "execute_result"
    }
   ],
   "source": [
    "def m1_eval(model,x,y):\n",
    "    y_pred = model.predict(x)\n",
    "    mse = mean_squared_error(y,y_pred)\n",
    "    print(f\"MSE = \\n {mse}\")\n",
    "    print(f\"RMSE = \\n {np.sqrt(mse)}\")  \n",
    "    mae = mean_absolute_error(y,y_pred)\n",
    "    print(f\"MAE = \\n{mae}\")\n",
    "    r2 = r2_score(y,y_pred)\n",
    "    print(f\"R-Squared Value = \\n {r2}\")\n",
    "    n = x.shape[0]\n",
    "    p = x.shape[1]\n",
    "    adj_r2 = 1 - (((1-r2)* (n-1)) / (n-p-1))\n",
    "    print(f\"ADJUSTED R - SQUARED VALUE =\\n {adj_r2}\")\n",
    "    return \"Success\"\n",
    "\n",
    "\n",
    "#Training Data\n",
    "m1_eval(m1,x_train,y_train)"
   ]
  },
  {
   "cell_type": "code",
   "execution_count": 62,
   "id": "9b66c66e",
   "metadata": {},
   "outputs": [
    {
     "name": "stdout",
     "output_type": "stream",
     "text": [
      "MSE = \n",
      " 19.16198449052128\n",
      "RMSE = \n",
      " 4.3774404039942425\n",
      "MAE = \n",
      "3.2819060333728123\n",
      "R-Squared Value = \n",
      " 0.7970688797794983\n",
      "ADJUSTED R - SQUARED VALUE =\n",
      " 0.7928362492302873\n"
     ]
    },
    {
     "data": {
      "text/plain": [
       "'Success'"
      ]
     },
     "execution_count": 62,
     "metadata": {},
     "output_type": "execute_result"
    }
   ],
   "source": [
    "#Testing Data\n",
    "\n",
    "m1_eval(m1,x_test,y_test)"
   ]
  },
  {
   "cell_type": "code",
   "execution_count": 63,
   "id": "504af50b",
   "metadata": {},
   "outputs": [
    {
     "name": "stderr",
     "output_type": "stream",
     "text": [
      "C:\\ProgramData\\Anaconda3\\lib\\site-packages\\sklearn\\linear_model\\_coordinate_descent.py:647: ConvergenceWarning: Objective did not converge. You might want to increase the number of iterations, check the scale of the features or consider increasing regularisation. Duality gap: 1.882e+04, tolerance: 1.840e+01\n",
      "  model = cd_fast.enet_coordinate_descent(\n"
     ]
    },
    {
     "data": {
      "text/plain": [
       "Lasso(alpha=2)"
      ]
     },
     "execution_count": 63,
     "metadata": {},
     "output_type": "execute_result"
    }
   ],
   "source": [
    "# high bias and low variance\n",
    "lasso_model = Lasso(alpha=2)\n",
    "lasso_model.fit(x_train,y_train)"
   ]
  },
  {
   "cell_type": "code",
   "execution_count": 64,
   "id": "79f17809",
   "metadata": {},
   "outputs": [
    {
     "name": "stdout",
     "output_type": "stream",
     "text": [
      "MSE = \n",
      " 18.087070361773545\n",
      "RMSE = \n",
      " 4.252889648435937\n",
      "MAE = \n",
      "3.121100414217232\n",
      "R-Squared Value = \n",
      " 0.7978695437090193\n",
      "ADJUSTED R - SQUARED VALUE =\n",
      " 0.7960834130201446\n",
      "----------------------------\n",
      "MSE = \n",
      " 21.219146266024246\n",
      "RMSE = \n",
      " 4.6064244556949205\n",
      "MAE = \n",
      "3.3900652302446628\n",
      "R-Squared Value = \n",
      " 0.7752829241659701\n",
      "ADJUSTED R - SQUARED VALUE =\n",
      " 0.77059589361555\n"
     ]
    },
    {
     "data": {
      "text/plain": [
       "'Success'"
      ]
     },
     "execution_count": 64,
     "metadata": {},
     "output_type": "execute_result"
    }
   ],
   "source": [
    "m1_eval(lasso_model,x_train,y_train)\n",
    "print(\"----------------------------\")\n",
    "m1_eval(lasso_model,x_test,y_test)"
   ]
  },
  {
   "cell_type": "code",
   "execution_count": 65,
   "id": "64085ab9",
   "metadata": {},
   "outputs": [],
   "source": [
    "def get_outlier_iqr(arr):\n",
    "    outlier= []\n",
    "    q1 = np.quantile(arr,0.25) #>> 25th percentile \n",
    "    q2 = np.quantile(arr,0.5) #>> 50th Median \n",
    "    q3 = np.quantile(arr,0.75) #>> 75th percentile \n",
    "    print(f\"{q1=} {q2=} {q3=}\")\n",
    "    IQR = q3 -q1\n",
    "    print(f\"IQR = {IQR}\")\n",
    "    lower_tail = q1 - 1.25 * IQR\n",
    "    upper_tail = q3 + 1.5 * IQR\n",
    "    print(f\"{upper_tail=}\")\n",
    "    print(f\"{lower_tail=}\")\n",
    "    \n",
    "    for i in arr: \n",
    "        if i > upper_tail or i < lower_tail: \n",
    "            outlier.append(i)\n",
    "    return outlier, upper_tail,lower_tail"
   ]
  },
  {
   "cell_type": "code",
   "execution_count": 66,
   "id": "62de6790",
   "metadata": {},
   "outputs": [
    {
     "name": "stdout",
     "output_type": "stream",
     "text": [
      "q1=63.0 q2=72.0 q3=75.0\n",
      "IQR = 12.0\n",
      "upper_tail=93.0\n",
      "lower_tail=48.0\n",
      "column name = Life expectancy  outliers = [47, 47, 47, 46, 46, 45, 45, 46, 46, 46, 47, 47, 47, 47, 47, 46, 46, 45, 45, 45, 45, 45, 46, 47, 45, 36, 47, 46, 45, 44, 44, 45, 46, 47, 47, 46, 45, 44, 44, 43, 43, 47, 47, 47, 47, 46, 45, 44, 43, 42, 41, 41, 39, 47, 46, 45, 45, 46, 47, 47, 46, 47, 46, 45, 44, 43, 46, 45, 44, 44, 44, 44, 45, 46]\n",
      "q1=74.0 q2=144.0 q3=227.0\n",
      "IQR = 153.0\n",
      "upper_tail=456.5\n",
      "lower_tail=-117.25\n",
      "column name = Adult Mortality outliers = [491, 566, 652, 693, 699, 679, 647, 466, 472, 473, 473, 467, 461, 477, 495, 511, 512, 593, 682, 484, 522, 518, 513, 527, 566, 592, 633, 654, 675, 666, 648, 622, 586, 543, 462, 491, 525, 559, 587, 615, 613, 599, 588, 477, 483, 471, 463, 464, 496, 513, 519, 533, 473, 486, 496, 498, 497, 485, 459, 459, 477, 564, 587, 568, 536, 485, 523, 539, 554, 459, 457, 487, 526, 554, 578, 611, 614, 464, 527, 587, 632, 717, 723, 715, 686, 665]\n",
      "q1=1.0 q2=3.0 q3=7.0\n",
      "IQR = 6.0\n",
      "upper_tail=16.0\n",
      "lower_tail=-6.5\n",
      "column name = Alcohol outliers = [17, 17]\n",
      "q1=4.0 q2=64.0 q3=440.75\n",
      "IQR = 436.75\n",
      "upper_tail=1095.875\n",
      "lower_tail=-541.9375\n",
      "column name = percentage expenditure outliers = [2422, 1991, 2156, 1810, 1983, 1455, 1158, 1127, 1133, 1504, 1398, 1413, 1105, 1349, 10769, 11734, 11714, 10986, 8875, 7172, 8547, 6187, 3829, 3064, 8350, 7878, 8272, 7423, 8053, 8329, 7453, 5992, 5316, 3979, 3582, 3557, 2211, 1553, 1380, 1214, 1150, 1641, 1311, 1140, 1147, 1109, 7163, 7191, 5579, 5068, 5160, 2943, 1111, 2845, 3192, 2218, 1873, 2538, 2048, 1504, 1406, 9733, 9748, 8649, 8433, 7946, 6333, 5513, 4687, 3895, 3665, 3787, 2352, 2442, 2260, 1275, 1435, 1487, 2568, 2429, 2377, 1859, 1185, 1884, 1899, 1851, 1913, 2160, 2425, 2019, 1555, 1116, 2159, 2443, 1958, 1700, 1562, 1586, 1128, 10468, 10261, 10251, 9765, 10761, 9703, 7627, 6948, 4801, 1500, 1493, 1192, 1705, 2700, 2263, 2146, 1802, 1717, 1904, 6164, 6115, 5889, 6147, 4816, 4508, 3869, 3099, 2775, 6739, 6646, 6415, 7002, 5689, 5451, 5291, 4572, 3779, 3451, 3410, 7584, 7641, 8285, 7777, 6407, 6012, 5842, 4057, 4238, 2163, 2183, 2528, 3192, 3189, 3682, 3632, 2785, 2124, 1403, 1281, 1299, 1317, 8254, 6818, 6005, 7613, 12042, 10631, 8506, 5948, 5048, 5809, 6616, 6386, 4509, 7620, 9528, 9797, 9126, 8040, 5092, 4264, 3794, 4348, 4279, 3830, 3793, 1895, 1731, 1701, 4831, 4793, 5439, 5219, 5243, 5228, 4506, 4270, 3519, 2883, 9498, 7313, 6599, 6502, 6799, 6746, 5250, 5486, 5926, 2480, 2792, 2957, 2785, 2009, 3001, 2078, 2555, 2443, 1731, 1209, 1542, 1356, 1109, 1137, 1099, 2211, 1968, 1807, 1758, 1423, 1446, 1888, 1581, 16255, 15515, 2284, 17028, 2267, 2052, 18961, 15345, 1346, 12372, 10111, 7877, 8246, 2051, 1626, 1259, 3601, 2655, 2578, 2380, 2247, 1678, 1552, 1117, 1491, 1475, 1162, 10873, 9689, 8344, 6577, 5170, 4472, 3455, 3054, 2944, 10019, 8342, 6664, 6761, 3661, 2892, 2205, 2143, 2094, 15268, 1707, 14829, 12829, 11792, 6356, 6191, 1154, 1842, 1694, 1199, 1299, 2698, 3108, 3119, 3652, 2884, 2813, 2283, 1904, 1657, 5063, 5163, 4409, 3688, 5484, 4582, 4064, 4049, 1559, 1230, 1340, 1529, 2017, 2047, 1197, 1307, 1395, 1117, 1521, 1121, 7971, 6041, 4540, 3404, 3082, 2639, 2356, 2263, 1855, 3283, 3343, 3187, 3505, 3256, 2724, 2503, 1617, 4255, 4873, 5047, 5596, 4460, 3715, 3205, 2044, 1934, 1132, 1122, 1168, 1142, 1212, 10947, 11477, 8105, 7593, 6369, 5793, 5067, 3998, 3554, 3689, 19479, 19099, 18379, 18822, 2198, 14714, 2084, 11892, 10598, 10055, 9495, 6853, 6478, 5834, 1578, 1486, 1389, 1902, 1187, 1275, 3862, 3663, 4003, 3759, 3749, 3427, 2972, 2598, 2331, 1871, 1712]\n",
      "q1=82.0 q2=92.0 q3=96.0\n",
      "IQR = 14.0\n",
      "upper_tail=117.0\n",
      "lower_tail=64.5\n",
      "column name = Hepatitis B outliers = [62, 64, 63, 64, 63, 64, 64, 63, 62, 9, 8, 64, 64, 61, 9, 55, 44, 33, 8, 62, 52, 49, 5, 51, 5, 9, 21, 45, 11, 5, 18, 56, 7, 64, 64, 6, 6, 6, 8, 7, 15, 8, 9, 9, 36, 9, 9, 8, 62, 63, 48, 1, 9, 4, 8, 8, 55, 55, 55, 7, 7, 56, 42, 28, 14, 14, 14, 14, 14, 47, 47, 23, 47, 47, 45, 42, 46, 37, 39, 4, 33, 39, 24, 17, 9, 9, 7, 6, 9, 8, 28, 8, 9, 62, 7, 64, 9, 8, 27, 8, 6, 7, 25, 8, 8, 8, 63, 9, 36, 9, 16, 2, 9, 9, 62, 56, 52, 47, 51, 47, 42, 39, 35, 35, 28, 29, 28, 26, 8, 7, 52, 28, 54, 64, 48, 51, 61, 55, 9, 9, 9, 8, 8, 8, 9, 54, 51, 63, 62, 63, 64, 57, 57, 57, 8, 9, 6, 48, 7, 44, 38, 37, 29, 6, 6, 8, 6, 64, 64, 63, 62, 56, 62, 61, 56, 59, 62, 63, 46, 9, 36, 9, 8, 5, 9, 9, 57, 44, 61, 5, 57, 49, 45, 5, 9, 8, 8, 9, 6, 17, 52, 5, 8, 47, 64, 64, 7, 7, 61, 51, 64, 64, 9, 9, 8, 8, 8, 64, 64, 42, 9, 8, 9, 9, 9, 9, 9, 9, 43, 8, 25, 58, 4, 62, 39, 8, 9, 41, 27, 2, 51, 2, 2, 9, 9, 9, 9, 7, 49, 49, 46, 42, 46, 49, 63, 41, 42, 27, 18, 7, 63, 8, 8, 56, 59, 61, 63, 6, 6, 59, 57, 9, 9, 6, 49, 48, 52, 42, 45, 7, 7, 58, 9, 43, 14, 31, 59, 56, 6, 64, 58, 57, 44, 12, 46, 35, 41, 54, 7, 43, 54, 63, 9, 9, 42, 42, 42, 8, 7, 31, 62, 32, 6, 22, 9, 9, 9, 53, 42, 41, 47, 43, 8, 8, 58, 39, 9, 53, 24, 8, 9, 9, 9, 9, 9, 9, 5, 9, 8, 64, 64, 62, 44, 29, 22, 22, 46, 46, 21, 48, 48, 7, 4, 9, 9, 9, 9, 9, 62, 64, 64, 64, 64, 63, 62, 62, 61, 6, 59, 61, 63, 64, 7, 53, 62, 6, 53, 5, 59, 8, 43, 38, 31, 19, 14, 9, 8, 9, 7]\n",
      "q1=19.0 q2=43.0 q3=56.0\n",
      "IQR = 37.0\n",
      "upper_tail=111.5\n",
      "lower_tail=-27.25\n",
      "column name =  BMI  outliers = []\n",
      "q1=78.0 q2=93.0 q3=97.0\n",
      "IQR = 19.0\n",
      "upper_tail=125.5\n",
      "lower_tail=54.25\n",
      "column name = Polio outliers = [6, 5, 41, 36, 35, 24, 7, 36, 39, 4, 4, 37, 41, 3, 9, 9, 8, 8, 9, 9, 9, 9, 53, 8, 8, 9, 9, 9, 9, 9, 9, 9, 45, 7, 7, 9, 9, 8, 54, 8, 9, 47, 47, 23, 47, 47, 46, 45, 46, 46, 47, 47, 45, 44, 42, 4, 38, 52, 44, 46, 51, 4, 43, 32, 3, 38, 49, 37, 31, 36, 31, 26, 3, 9, 9, 9, 8, 7, 7, 8, 9, 5, 41, 32, 31, 9, 8, 9, 8, 6, 52, 47, 4, 3, 42, 9, 49, 46, 9, 9, 9, 9, 9, 17, 24, 3, 3, 39, 54, 52, 5, 48, 46, 44, 43, 41, 9, 7, 7, 7, 54, 8, 44, 44, 44, 44, 44, 44, 44, 9, 8, 8, 9, 9, 9, 8, 42, 42, 6, 46, 53, 52, 47, 52, 9, 6, 54, 52, 5, 9, 8, 8, 8, 8, 7, 7, 8, 8, 9, 9, 9, 7, 8, 8, 9, 6, 46, 5, 46, 52, 8, 9, 9, 9, 9, 52, 49, 8, 47, 49, 51, 54, 9, 7, 8, 6, 7, 7, 53, 8, 8, 52, 9, 8, 9, 9, 9, 8, 9, 9, 8, 8, 4, 52, 46, 45, 44, 43, 42, 41, 49, 49, 46, 42, 48, 54, 6, 54, 46, 45, 43, 42, 4, 36, 31, 7, 7, 8, 8, 54, 52, 51, 8, 9, 9, 9, 9, 9, 9, 7, 6, 45, 54, 49, 37, 26, 9, 6, 49, 49, 54, 38, 46, 9, 47, 47, 47, 47, 49, 49, 41, 4, 4, 26, 35, 3, 4, 4, 33, 37, 7, 7, 41, 44, 5, 9, 6, 7, 5, 52, 5, 47, 6, 7, 38, 8, 8, 51, 8, 9, 9, 9, 9, 9, 9, 9, 7, 51, 45, 54, 9, 9, 9, 8, 8, 9, 7, 8, 9, 7]\n",
      "q1=4.0 q2=5.0 q3=7.0\n",
      "IQR = 3.0\n",
      "upper_tail=11.5\n",
      "lower_tail=0.25\n",
      "column name = Total expenditure outliers = [12, 12, 13, 14, 12, 13, 17, 13, 13, 12, 13, 13, 13, 12, 12, 12, 12, 13, 12, 13, 0, 0, 0, 0, 0, 16, 17, 16, 17, 17, 17, 17, 16, 15, 15, 15, 15, 15, 14, 13, 13]\n",
      "q1=78.0 q2=93.0 q3=97.0\n",
      "IQR = 19.0\n",
      "upper_tail=125.5\n",
      "lower_tail=54.25\n",
      "column name = Diphtheria  outliers = [5, 41, 36, 33, 24, 6, 34, 38, 4, 4, 41, 38, 28, 9, 9, 5, 8, 7, 9, 8, 9, 45, 8, 8, 9, 9, 9, 8, 54, 6, 8, 8, 47, 47, 23, 47, 47, 45, 42, 45, 48, 51, 54, 51, 47, 44, 4, 37, 46, 37, 39, 4, 33, 39, 24, 19, 28, 4, 25, 21, 23, 25, 26, 36, 9, 9, 8, 8, 7, 7, 8, 9, 5, 41, 31, 33, 9, 9, 8, 6, 7, 6, 54, 41, 38, 3, 4, 9, 53, 46, 9, 16, 2, 3, 24, 41, 44, 43, 42, 41, 4, 39, 38, 37, 36, 35, 34, 9, 9, 54, 5, 46, 44, 4, 37, 35, 32, 3, 9, 8, 7, 45, 45, 45, 45, 45, 45, 45, 8, 8, 9, 9, 8, 8, 54, 51, 6, 6, 53, 5, 46, 8, 6, 53, 49, 9, 6, 48, 6, 6, 53, 48, 45, 41, 9, 7, 7, 8, 9, 9, 9, 9, 8, 8, 7, 9, 5, 49, 45, 49, 53, 52, 51, 8, 8, 9, 9, 52, 5, 8, 7, 6, 6, 31, 35, 39, 42, 46, 7, 7, 6, 9, 49, 43, 8, 8, 7, 51, 9, 8, 8, 7, 9, 9, 9, 8, 9, 9, 9, 9, 7, 51, 45, 43, 41, 39, 36, 34, 49, 49, 46, 42, 48, 54, 53, 42, 4, 36, 33, 29, 25, 27, 29, 9, 8, 8, 9, 9, 6, 8, 9, 9, 9, 9, 9, 9, 7, 49, 26, 53, 39, 49, 6, 52, 52, 53, 38, 44, 9, 9, 9, 42, 42, 42, 42, 41, 45, 42, 31, 4, 26, 35, 3, 4, 4, 33, 33, 7, 31, 39, 45, 9, 6, 9, 41, 43, 41, 45, 8, 8, 8, 8, 8, 7, 54, 5, 8, 9, 9, 9, 9, 9, 9, 9, 9, 9, 9, 8, 52, 23, 23, 5, 52, 9, 9, 9, 9, 9, 7, 7, 5, 7, 9, 8, 7]\n",
      "q1=0.0 q2=0.0 q3=0.0\n",
      "IQR = 0.0\n",
      "upper_tail=0.0\n",
      "lower_tail=0.0\n",
      "column name =  HIV/AIDS outliers = [1, 2, 2, 2, 2, 2, 2, 2, 2, 2, 2, 2, 2, 2, 2, 2, 1, 1, 1, 1, 1, 1, 1, 1, 1, 2, 2, 2, 2, 2, 2, 2, 2, 2, 2, 2, 4, 5, 6, 9, 12, 13, 14, 20, 28, 31, 34, 37, 38, 1, 1, 1, 1, 2, 2, 2, 2, 3, 3, 4, 1, 1, 1, 1, 2, 2, 3, 3, 4, 4, 5, 5, 5, 5, 1, 2, 2, 2, 3, 3, 3, 4, 5, 5, 6, 6, 6, 6, 7, 7, 1, 1, 1, 1, 2, 2, 2, 3, 3, 4, 4, 4, 5, 6, 6, 7, 7, 7, 7, 7, 7, 7, 7, 4, 4, 5, 5, 5, 6, 7, 8, 9, 10, 11, 12, 12, 13, 13, 14, 2, 2, 3, 3, 3, 4, 4, 4, 4, 5, 5, 5, 5, 5, 4, 4, 2, 3, 3, 3, 3, 3, 4, 4, 5, 5, 5, 6, 6, 7, 7, 7, 1, 1, 1, 1, 1, 1, 1, 1, 1, 2, 2, 2, 2, 2, 2, 2, 2, 2, 2, 1, 2, 3, 3, 3, 3, 3, 3, 4, 4, 4, 4, 4, 1, 1, 1, 1, 2, 2, 2, 2, 2, 2, 4, 4, 5, 8, 7, 7, 7, 6, 5, 5, 4, 4, 3, 2, 2, 1, 1, 1, 1, 1, 1, 1, 1, 1, 2, 1, 1, 1, 1, 2, 2, 2, 3, 3, 4, 4, 4, 4, 5, 2, 2, 3, 4, 6, 7, 8, 8, 10, 10, 10, 11, 11, 10, 10, 9, 1, 1, 1, 1, 1, 2, 2, 3, 3, 3, 3, 2, 2, 2, 2, 2, 1, 1, 2, 2, 2, 2, 3, 3, 3, 3, 3, 3, 1, 1, 2, 2, 2, 2, 2, 2, 2, 2, 2, 3, 3, 3, 3, 3, 4, 5, 5, 5, 6, 6, 5, 5, 5, 5, 4, 4, 3, 3, 1, 1, 1, 1, 2, 2, 1, 1, 1, 1, 2, 2, 2, 3, 3, 4, 4, 4, 5, 5, 1, 1, 1, 1, 1, 1, 1, 2, 2, 2, 2, 2, 2, 2, 3, 3, 3, 4, 5, 6, 9, 10, 11, 13, 14, 15, 16, 18, 9, 9, 9, 9, 10, 13, 18, 27, 30, 34, 34, 34, 33, 32, 31, 29, 1, 1, 1, 1, 2, 2, 2, 3, 3, 3, 3, 3, 3, 3, 4, 5, 6, 8, 11, 13, 14, 16, 19, 21, 22, 23, 24, 24, 25, 25, 1, 1, 1, 1, 1, 1, 1, 1, 1, 1, 1, 2, 2, 2, 2, 2, 1, 1, 1, 1, 1, 1, 1, 1, 1, 1, 1, 1, 1, 1, 3, 4, 5, 6, 9, 10, 11, 12, 14, 16, 16, 15, 15, 14, 13, 12, 2, 2, 2, 3, 4, 6, 8, 11, 15, 19, 22, 24, 24, 24, 23, 22, 1, 1, 1, 1, 1, 1, 1, 1, 1, 1, 3, 3, 3, 4, 4, 4, 4, 5, 5, 5, 5, 5, 5, 5, 5, 4, 1, 1, 1, 1, 1, 1, 1, 1, 1, 1, 1, 1, 1, 1, 2, 2, 3, 5, 6, 7, 7, 8, 8, 8, 8, 1, 1, 1, 1, 1, 1, 1, 1, 1, 1, 1, 1, 2, 2, 2, 2, 1, 1, 1, 1, 3, 3, 4, 7, 8, 11, 19, 23, 26, 28, 29, 29, 28, 26, 24, 21, 3, 3, 3, 3, 3, 4, 4, 4, 4, 4, 3, 3, 3, 3, 3, 2, 1, 1, 1, 1, 7, 7, 9, 12, 15, 21, 33, 40, 40, 43, 49, 50, 50, 49, 48, 46, 1, 1, 1, 1, 2, 3, 4, 4, 5, 5, 5, 5, 5, 5, 5, 5, 1, 2, 1, 3, 3, 4, 4, 6, 8, 8, 8, 8, 8, 8, 8, 9, 10, 10, 11, 1, 1, 1, 2, 2, 3, 4, 6, 7, 8, 9, 10, 10, 11, 12, 12, 12, 4, 4, 4, 5, 6, 6, 9, 11, 13, 15, 17, 17, 18, 18, 18, 18, 6, 6, 6, 8, 13, 15, 18, 20, 23, 26, 30, 33, 36, 39, 42, 43]\n",
      "q1=579.75 q2=1766.0 q3=4779.0\n",
      "IQR = 4199.25\n",
      "upper_tail=11077.875\n",
      "lower_tail=-4669.3125\n",
      "column name = GDP outliers = [13566, 12888, 12224, 12565, 11929, 12126, 14252, 12724, 11371, 13467, 12245, 12976, 12969, 12726, 56554, 62214, 67792, 67677, 62245, 51874, 42742, 49664, 36118, 23465, 19517, 43665, 51322, 48333, 51126, 46657, 47654, 51386, 46586, 38242, 36693, 26351, 24489, 24517, 22688, 24983, 23649, 19356, 17959, 15846, 14221, 12868, 13636, 15557, 15359, 15472, 15384, 15534, 16523, 16462, 15646, 14223, 12868, 11675, 11513, 11568, 47439, 48424, 38852, 36967, 35589, 23121, 12216, 12291, 13167, 11224, 44597, 47651, 35268, 27965, 37951, 32672, 21896, 18555, 16846, 16468, 43315, 52413, 52496, 47447, 46596, 44544, 36189, 31979, 28172, 24167, 23691, 24124, 13653, 14817, 15941, 15431, 11579, 13467, 13574, 13235, 14539, 14157, 15893, 13546, 11363, 28951, 32233, 31386, 27169, 25324, 23932, 16372, 14672, 62425, 61191, 61753, 58163, 64322, 58487, 48799, 46511, 33228, 21557, 21451, 17136, 22742, 15761, 12732, 19941, 17421, 17454, 14638, 14726, 16586, 12595, 49914, 49638, 47415, 48288, 38969, 37636, 32816, 26834, 24913, 24253, 36526, 42955, 42554, 41631, 45413, 36544, 34879, 33874, 29691, 24275, 22527, 22465, 41176, 41785, 41732, 45699, 41814, 36447, 34696, 34165, 23687, 23718, 21673, 21874, 22242, 25916, 26917, 31997, 28827, 22551, 21955, 18477, 12538, 12365, 14117, 13613, 12834, 12967, 15669, 13842, 11398, 11161, 52473, 44333, 41676, 55575, 68348, 56249, 46917, 31996, 28585, 31813, 49231, 52567, 48538, 51983, 61235, 61388, 54326, 47631, 32539, 28223, 26241, 35729, 37582, 36393, 32569, 33657, 27795, 29657, 19888, 18946, 18431, 35396, 34814, 38334, 35849, 36976, 37698, 31959, 31174, 27387, 22196, 34474, 48167, 39339, 35275, 35433, 37217, 37688, 32289, 33846, 38532, 12387, 11634, 28975, 42996, 48399, 51264, 48268, 38497, 37567, 55571, 45793, 42717, 26921, 17789, 18389, 13666, 15725, 13822, 11326, 12219, 16348, 14396, 14252, 16554, 15712, 14341, 14357, 11984, 11837, 14961, 12297, 119172, 113751, 16749, 115761, 14965, 13198, 114293, 89739, 75716, 65445, 48179, 48735, 11183, 23819, 22821, 21928, 19375, 16671, 15835, 13689, 11843, 44292, 52157, 51574, 49474, 56928, 51241, 44453, 41577, 39954, 35245, 28817, 26584, 25921, 42889, 38426, 33691, 31287, 21913, 16874, 13882, 13641, 11563, 87646, 85128, 74114, 66775, 38549, 38146, 16627, 21268, 22134, 16784, 12376, 13134, 12593, 11685, 12565, 14341, 13145, 13893, 12599, 11527, 21618, 23196, 22538, 24815, 19821, 18784, 15772, 12882, 11729, 66346, 86852, 88564, 85948, 61478, 82967, 51488, 41818, 34176, 29986, 14125, 15543, 15154, 14212, 11635, 24575, 24934, 19259, 16472, 15334, 13739, 11138, 15687, 12845, 12189, 11122, 12154, 53629, 56336, 54431, 53166, 46569, 38577, 39721, 39223, 33579, 29869, 23573, 21577, 23792, 22486, 24985, 23437, 24633, 23841, 19726, 18169, 11814, 25683, 28562, 31834, 32333, 35578, 28482, 24918, 21495, 15323, 14676, 57134, 59593, 55746, 53324, 46256, 42442, 36961, 29571, 26969, 29283, 85814, 84658, 83164, 87998, 74276, 69672, 72119, 63223, 57348, 54797, 53255, 41336, 38538, 37813, 17321, 19325, 19152, 16683, 21188, 12323, 12127, 12542, 11341, 44449, 42112, 45758, 42672, 42372, 39439, 36161, 31311, 15524, 16737, 16881, 14166, 11938]\n",
      "q1=418917.25 q2=1386542.0 q3=4584371.25\n",
      "IQR = 4165454.0\n",
      "upper_tail=10832552.25\n",
      "lower_tail=-4787900.25\n",
      "column name = Population outliers = [33736494, 31731688, 26616792, 24118979, 21979923, 39871528, 39113313, 38338562, 37565847, 36819558, 36117637, 33777915, 33288437, 31592153, 24218565, 23369131, 22549547, 19552542, 18865716, 17572649, 16983266, 43417765, 42981515, 42539925, 41656879, 41223889, 39145488, 38728696, 23789338, 23117353, 22728254, 15945279, 157571292, 15572753, 153911916, 15214912, 14885814, 147139191, 14343111, 14137489, 131581243, 11274196, 11182817, 11128246, 24213133, 198686688, 196796269, 194895996, 19297929, 19126637, 18912412, 186917361, 184738458, 182482149, 175287587, 17585977, 16571216, 14689726, 13829177, 12654621, 11944587, 15517635, 14776866, 14537886, 13676693, 13474489, 12853124, 12634729, 12152354, 22834522, 21655715, 19432541, 18395389, 17899562, 16513822, 15671927, 15274234, 35544564, 35155451, 33628571, 33245773, 32887928, 13569438, 13133589, 12288651, 11133861, 17762681, 17613798, 17462982, 17153357, 16993354, 16829442, 16661942, 16491687, 16319792, 15973778, 15799542, 15623635, 15444969, 15262754, 48228697, 47791911, 47342981, 46881475, 45416181, 44374572, 43835722, 43285634, 42724163, 42152151, 41572491, 16144368, 15661547, 15419666, 15177355, 14691275, 14447562, 13735233, 12852755, 12628596, 97366774, 94887724, 92444183, 85416253, 83184892, 72545144, 68492257, 66537331, 66331957, 65342776, 63621376, 63179356, 62244884, 61357431, 81686611, 82266372, 82376451, 82469422, 82534176, 82488495, 82349925, 27582821, 26962563, 26346251, 25121796, 22113425, 19924522, 18938762, 11121341, 16252429, 15923559, 15596214, 14948919, 12796925, 11924946, 11536615, 11281469, 1293859294, 127856227, 126365852, 124723629, 12398691, 121427132, 119714696, 1179681239, 1161977719, 1144118674, 1126135777, 11827848, 18987112, 171477855, 258162113, 255131116, 25232263, 248883232, 24577511, 242524123, 23934478, 236159276, 232989141, 22983822, 22671273, 223614649, 22545214, 21154429, 36115649, 33883145, 32776571, 29894652, 29111417, 27697912, 25627626, 24939299, 24251649, 23565413, 59539717, 59379449, 59277417, 58826731, 58143979, 57969484, 57685327, 17544126, 17289224, 16791425, 16321581, 15484192, 14858948, 14858335, 14883626, 47236259, 44826849, 43646629, 42486839, 39148416, 32321482, 22961146, 22346573, 21743949, 19996469, 19433523, 18336724, 17279141, 16765117, 16577147, 15627618, 14271234, 13429262, 12336687, 11695863, 11376172, 28635128, 28112289, 26625845, 26143566, 25659393, 24198811, 16962846, 16477818, 14138216, 12798763, 11638929, 11293258, 12589949, 122535969, 117318941, 11555228, 11366189, 111836346, 18472228, 16995583, 11719673, 33824769, 33333789, 32858823, 31989897, 31596855, 31225881, 29843937, 29512368, 29181832, 28849621, 27212382, 26434372, 22846758, 22188387, 21547463, 19716598, 19139658, 18588758, 51924182, 51448196, 49479752, 49171586, 48846474, 48482614, 47624894, 46627994, 28656282, 28323241, 27649925, 27327147, 26475859, 26214847, 24566342, 24161777, 16939923, 16754962, 16615394, 16445593, 16381696, 16319868, 16281779, 16148929, 15925513, 19896965, 19148219, 18426372, 17731634, 16425578, 15813913, 15228525, 14668338, 13618449, 11771976, 11352973, 181181744, 17182933, 167297284, 16287776, 158578261, 15442181, 14641724, 14261494, 138939478, 135393616, 131972533, 12866671, 125463434, 18938513, 185546257, 181712595, 177911533, 174184265, 16364463, 16332974, 15793993, 15399667, 144654143, 14161437, 138523285, 31376671, 29759989, 29373646, 28292724, 27949944, 27273194, 26937738, 26261363, 25914879, 11716359, 96866642, 93726624, 86274237, 84678493, 79665315, 77991569, 37986412, 38125759, 38141267, 38165445, 38182222, 38258629, 19815481, 19983693, 21319685, 21451748, 21574326, 22442971, 143819666, 14356911, 14321676, 14296868, 142849449, 142785342, 14274235, 14349528, 143518523, 144648257, 14597683, 146596557, 11629553, 11345357, 14976994, 14546111, 12916229, 11873557, 11556763, 11251266, 54146734, 53311955, 51729345, 49557573, 48883844, 46418193, 45855482, 45312937, 44896856, 11882136, 46447697, 46742697, 46576897, 46362946, 44397319, 43653155, 42921895, 42187645, 41431558, 37737913, 36849918, 35167314, 34385963, 32955496, 32282526, 29435944, 28679565, 18734987, 18914977, 18294611, 17415266, 16766899, 68416772, 67843979, 66881867, 66195615, 65824164, 64554952, 63543322, 11273661, 78271472, 75787333, 74569867, 72326914, 71339185, 69597281, 64191474, 38833338, 37553726, 33915133, 32771895, 31663896, 27568436, 24854892, 45271947, 48683865, 49175848, 14699937, 14264756, 13456417, 12725974, 12383446, 11731746, 11421984, 15777451, 15411675, 14386649, 13558469, 13124267, 12777511, 12633897, 12366165, 12222251]\n",
      "q1=1.0 q2=3.0 q3=7.0\n",
      "IQR = 6.0\n",
      "upper_tail=16.0\n",
      "lower_tail=-6.5\n",
      "column name =  thinness  1-19 years outliers = [17, 17, 17, 17, 18, 18, 18, 18, 19, 19, 19, 19, 19, 19, 17, 18, 18, 18, 18, 18, 19, 19, 19, 19, 19, 17, 17, 17, 17, 18, 18, 18, 18, 19, 26, 26, 26, 26, 26, 27, 27, 27, 27, 27, 27, 27, 27, 27, 27, 27, 17, 17, 17, 17, 17, 18, 18, 18, 18, 19, 19, 19, 19, 21, 21, 21, 21, 21, 22, 22]\n",
      "q1=1.0 q2=3.0 q3=7.0\n",
      "IQR = 6.0\n",
      "upper_tail=16.0\n",
      "lower_tail=-6.5\n",
      "column name =  thinness 5-9 years outliers = [17, 17, 17, 18, 18, 18, 18, 18, 19, 19, 19, 19, 19, 18, 18, 18, 19, 19, 19, 19, 19, 21, 21, 21, 17, 17, 17, 17, 18, 18, 18, 18, 19, 19, 19, 19, 27, 27, 27, 27, 27, 27, 27, 27, 28, 28, 28, 28, 28, 28, 28, 28, 17, 17, 17, 17, 18, 18, 18, 18, 18, 19, 19, 19, 19, 21, 21, 21, 21, 21, 22, 22, 22, 22, 17, 18, 19]\n",
      "q1=10.0 q2=12.0 q3=14.0\n",
      "IQR = 4.0\n",
      "upper_tail=20.0\n",
      "lower_tail=5.0\n",
      "column name = Schooling outliers = [4, 0, 0, 0, 0, 0, 0, 0, 4, 4, 4, 3, 3, 3, 3, 3, 4, 4, 4, 4, 4, 4, 4, 4, 4, 3, 3, 3, 2, 2, 0, 4, 4, 4, 3, 4, 4, 3, 4, 4, 4, 4, 0, 0, 0, 0, 0, 0, 4, 4, 4, 4, 3, 3, 3, 3, 3, 2, 2, 2, 4, 4, 4, 4, 4, 0, 0, 0, 0, 0, 0, 0, 0, 0, 0, 0, 0, 0, 0]\n"
     ]
    }
   ],
   "source": [
    "for i in df.columns:\n",
    "    if (df[i].dtype) == int:\n",
    "            a,u,l=get_outlier_iqr(df[i])                       \n",
    "            print(f\"column name = {i} outliers = {a}\")"
   ]
  },
  {
   "cell_type": "code",
   "execution_count": 67,
   "id": "38f7747f",
   "metadata": {},
   "outputs": [
    {
     "data": {
      "text/plain": [
       "<AxesSubplot:xlabel='Schooling', ylabel='Density'>"
      ]
     },
     "execution_count": 67,
     "metadata": {},
     "output_type": "execute_result"
    },
    {
     "data": {
      "image/png": "[encoded data removed]",
      "text/plain": [
       "<Figure size 432x288 with 1 Axes>"
      ]
     },
     "metadata": {
      "needs_background": "light"
     },
     "output_type": "display_data"
    }
   ],
   "source": [
    "sns.kdeplot(df[i])"
   ]
  },
  {
   "cell_type": "code",
   "execution_count": 68,
   "id": "634f8c8f",
   "metadata": {},
   "outputs": [
    {
     "name": "stdout",
     "output_type": "stream",
     "text": [
      "q1=63.0 q2=72.0 q3=75.0\n",
      "IQR = 12.0\n",
      "upper_tail=93.0\n",
      "lower_tail=48.0\n"
     ]
    }
   ],
   "source": [
    "o,u,l=get_outlier_iqr(df['Life expectancy '])"
   ]
  },
  {
   "cell_type": "code",
   "execution_count": 69,
   "id": "b342720f",
   "metadata": {},
   "outputs": [
    {
     "data": {
      "text/plain": [
       "93.0"
      ]
     },
     "execution_count": 69,
     "metadata": {},
     "output_type": "execute_result"
    }
   ],
   "source": [
    "u"
   ]
  },
  {
   "cell_type": "code",
   "execution_count": 70,
   "id": "ecec0af8",
   "metadata": {},
   "outputs": [],
   "source": [
    "df.loc[(df['Life expectancy ']>u) | (df['Life expectancy ']<l),'Life expectancy ']=u"
   ]
  },
  {
   "cell_type": "code",
   "execution_count": 71,
   "id": "0cae1c51",
   "metadata": {},
   "outputs": [
    {
     "data": {
      "text/plain": [
       "array([65, 59, 58, 57, 56, 55, 54, 77, 76, 75, 74, 73, 72, 71, 52, 51, 49,\n",
       "       48, 47, 46, 45, 82, 81, 86, 83, 79, 88, 84, 78, 69, 68, 67, 66, 70,\n",
       "       89, 87, 80, 60, 64, 63, 62, 61, 53, 85, 36, 44, 50, 43, 42, 41, 39])"
      ]
     },
     "execution_count": 71,
     "metadata": {},
     "output_type": "execute_result"
    }
   ],
   "source": [
    "df['Life expectancy '].unique()"
   ]
  },
  {
   "cell_type": "code",
   "execution_count": 72,
   "id": "be7d5d50",
   "metadata": {},
   "outputs": [
    {
     "data": {
      "text/plain": [
       "<AxesSubplot:xlabel='Life expectancy '>"
      ]
     },
     "execution_count": 72,
     "metadata": {},
     "output_type": "execute_result"
    },
    {
     "data": {
      "image/png": "[encoded data removed]",
      "text/plain": [
       "<Figure size 432x288 with 1 Axes>"
      ]
     },
     "metadata": {
      "needs_background": "light"
     },
     "output_type": "display_data"
    }
   ],
   "source": [
    "sns.boxplot(x=df['Life expectancy '])"
   ]
  },
  {
   "cell_type": "code",
   "execution_count": 73,
   "id": "77c6768a",
   "metadata": {},
   "outputs": [
    {
     "name": "stdout",
     "output_type": "stream",
     "text": [
      "q1=74.0 q2=144.0 q3=227.0\n",
      "IQR = 153.0\n",
      "upper_tail=456.5\n",
      "lower_tail=-117.25\n"
     ]
    }
   ],
   "source": [
    "o,u,l=get_outlier_iqr(df['Adult Mortality'])"
   ]
  },
  {
   "cell_type": "code",
   "execution_count": 74,
   "id": "bb9fb44b",
   "metadata": {},
   "outputs": [],
   "source": [
    "df.loc[(df['Adult Mortality']>u) | (df['Adult Mortality']<l),'Adult Mortality']= u"
   ]
  },
  {
   "cell_type": "code",
   "execution_count": 75,
   "id": "10bf2331",
   "metadata": {},
   "outputs": [
    {
     "data": {
      "text/plain": [
       "array([263. , 271. , 268. , 272. , 275. , 279. , 281. , 287. , 295. ,\n",
       "       291. , 293. ,   3. , 316. , 321. ,  74. ,   8. ,  84. ,  86. ,\n",
       "        88. ,  91. ,   1. ,   9. ,  99. ,  15. ,  17. ,  18. ,  14. ,\n",
       "        11. ,  19. , 112. , 113. , 116. , 119. , 123. , 126. , 129. ,\n",
       "       132. , 136. , 146. , 145. , 335. , 348. , 355. , 358. , 361. ,\n",
       "       365. , 369. , 371. , 375. , 381. , 382. , 386. , 388. , 391. ,\n",
       "        44. ,  48. ,  13. , 131. , 133. , 134. , 138. , 142. , 144. ,\n",
       "       147. , 149. , 151. , 153. , 154. , 156. , 118. ,  12. , 121. ,\n",
       "       127. , 137. , 128. , 141. ,  59. ,   6. ,  61. ,  63. ,  64. ,\n",
       "        66. ,  67. ,  69. ,  71. ,  73. ,  75. ,  78. ,  65. ,  68. ,\n",
       "         7. ,  77. ,  76. ,  81. ,  85. ,  92. ,  96. , 125. , 162. ,\n",
       "        16. , 172. , 167. , 161. , 168. , 171. , 174. , 189. , 192. ,\n",
       "        79. ,  83. ,  87. , 135. , 152. , 155. , 158. , 164. , 173. ,\n",
       "        98. , 111. , 115. , 117. , 196. , 199. ,  23. , 194. , 232. ,\n",
       "       222. , 226. , 224. , 243. , 252. , 247. , 253. , 262. , 254. ,\n",
       "        89. ,  95. , 175. , 177. , 188. , 186. , 184. , 181. , 191. ,\n",
       "       197. ,  21. , 249. , 251. , 259. , 278. , 283. , 284. , 285. ,\n",
       "       211. , 216. , 219. , 223. , 225. , 228. , 234. , 238. , 245. ,\n",
       "       273. , 282. ,  29. , 312. , 198. ,  22. ,  27. ,  94. ,  97. ,\n",
       "       256. , 286. , 325. , 349. , 393. , 427. , 436. , 456.5, 148. ,\n",
       "       157. , 159. , 163. , 176. , 179. , 183. ,  93. , 139. ,  26. ,\n",
       "       288. ,  32. , 313. , 323. , 332. , 338. , 344. , 297. ,  33. ,\n",
       "        35. , 378. , 387. , 385. , 397. ,  47. , 412. , 415. , 419. ,\n",
       "       417. , 426. , 437. , 443. , 452. , 114. , 122. , 124. , 195. ,\n",
       "        24. , 274. , 357. , 366. , 364. ,  37. , 373. , 395. , 394. ,\n",
       "         4. ,  41. ,  72. ,  82. , 451. , 439. , 446. , 453. ,  56. ,\n",
       "        51. ,  58. ,  54. ,  49. , 356. , 362. , 367. , 414. ,  46. ,\n",
       "        45. ,  43. , 143. , 165. , 227. , 233. , 237. , 241. , 246. ,\n",
       "       255. , 266. , 269. , 267. , 298. , 314. , 354. , 368. , 424. ,\n",
       "       416. ,  52. ,  53. ,  57. ,  62. , 166. , 258. , 277. , 292. ,\n",
       "       299. ,  36. , 341. ,  34. , 346. , 289. , 296. ,  39. , 318. ,\n",
       "       326. , 322. , 178. ,  28. , 214. , 213. , 215. , 218. , 327. ,\n",
       "       337. , 339. , 336. , 334. , 261. , 311. , 329. , 342. , 343. ,\n",
       "       345. , 328. , 363. , 372. ,   2. , 221. , 229. , 276. , 294. ,\n",
       "        31. , 315. , 257. ,  38. , 169. , 187. , 182. , 193. , 317. ,\n",
       "       217. , 244. , 185. ,   5. ,  55. , 236. , 235. , 432. , 434. ,\n",
       "       428. , 212. , 265. ,  42. , 333. , 248. , 377. , 441. ,  25. ,\n",
       "       231. , 425. , 429. , 239. , 242. , 431. , 374. , 376. , 396. ,\n",
       "       331. , 438. , 413. , 411. , 418. , 433. , 352. , 347. , 449. ,\n",
       "       359. , 383. , 351. , 454. , 399. ])"
      ]
     },
     "execution_count": 75,
     "metadata": {},
     "output_type": "execute_result"
    }
   ],
   "source": [
    "df['Adult Mortality'].unique()"
   ]
  },
  {
   "cell_type": "code",
   "execution_count": 76,
   "id": "60defdd8",
   "metadata": {},
   "outputs": [
    {
     "data": {
      "text/plain": [
       "<AxesSubplot:xlabel='Adult Mortality'>"
      ]
     },
     "execution_count": 76,
     "metadata": {},
     "output_type": "execute_result"
    },
    {
     "data": {
      "image/png": "[encoded data removed]",
      "text/plain": [
       "<Figure size 432x288 with 1 Axes>"
      ]
     },
     "metadata": {
      "needs_background": "light"
     },
     "output_type": "display_data"
    }
   ],
   "source": [
    "sns.boxplot(x=df['Adult Mortality'])"
   ]
  },
  {
   "cell_type": "code",
   "execution_count": 77,
   "id": "be1c6418",
   "metadata": {},
   "outputs": [
    {
     "name": "stdout",
     "output_type": "stream",
     "text": [
      "q1=0.0 q2=3.0 q3=22.0\n",
      "IQR = 22.0\n",
      "upper_tail=55.0\n",
      "lower_tail=-27.5\n"
     ]
    },
    {
     "data": {
      "text/plain": [
       "array([55,  0,  1, 21, 20, 19,  8,  9, 10, 11, 12,  5,  6,  7, 25, 13, 14,\n",
       "       15,  2, 42, 44, 46, 49, 51, 54, 38, 39, 40, 41, 43, 45, 47, 48, 22,\n",
       "       23, 24, 16, 17, 18, 27, 50, 53,  3,  4, 37, 26, 28, 29, 30, 31, 32,\n",
       "       33, 34, 35, 36, 52], dtype=int64)"
      ]
     },
     "execution_count": 77,
     "metadata": {},
     "output_type": "execute_result"
    }
   ],
   "source": [
    "o,u,l=get_outlier_iqr(df['infant deaths'])\n",
    "df.loc[(df['infant deaths']>u) | (df['infant deaths']<l),'infant deaths']= u\n",
    "df['infant deaths'].unique()"
   ]
  },
  {
   "cell_type": "code",
   "execution_count": 78,
   "id": "0bccf211",
   "metadata": {},
   "outputs": [
    {
     "data": {
      "text/plain": [
       "<AxesSubplot:xlabel='infant deaths'>"
      ]
     },
     "execution_count": 78,
     "metadata": {},
     "output_type": "execute_result"
    },
    {
     "data": {
      "image/png": "[encoded data removed]",
      "text/plain": [
       "<Figure size 432x288 with 1 Axes>"
      ]
     },
     "metadata": {
      "needs_background": "light"
     },
     "output_type": "display_data"
    }
   ],
   "source": [
    "sns.boxplot(x=df['infant deaths'])"
   ]
  },
  {
   "cell_type": "code",
   "execution_count": null,
   "id": "e857dba7",
   "metadata": {},
   "outputs": [],
   "source": []
  },
  {
   "cell_type": "code",
   "execution_count": 79,
   "id": "918a6709",
   "metadata": {},
   "outputs": [
    {
     "name": "stdout",
     "output_type": "stream",
     "text": [
      "q1=1.0 q2=3.0 q3=7.0\n",
      "IQR = 6.0\n",
      "upper_tail=16.0\n",
      "lower_tail=-6.5\n"
     ]
    },
    {
     "data": {
      "text/plain": [
       "array([ 0,  4,  5,  3,  8,  7,  6,  2,  1,  9, 10, 12, 11, 13, 14, 16, 15])"
      ]
     },
     "execution_count": 79,
     "metadata": {},
     "output_type": "execute_result"
    }
   ],
   "source": [
    "o,u,l=get_outlier_iqr(df['Alcohol'])\n",
    "df.loc[(df['Alcohol']>u) | (df['Alcohol']<l),'Alcohol']= u\n",
    "df['Alcohol'].unique()"
   ]
  },
  {
   "cell_type": "code",
   "execution_count": 80,
   "id": "5746eb29",
   "metadata": {},
   "outputs": [
    {
     "data": {
      "text/plain": [
       "<AxesSubplot:xlabel='Alcohol'>"
      ]
     },
     "execution_count": 80,
     "metadata": {},
     "output_type": "execute_result"
    },
    {
     "data": {
      "image/png": "[encoded data removed]",
      "text/plain": [
       "<Figure size 432x288 with 1 Axes>"
      ]
     },
     "metadata": {
      "needs_background": "light"
     },
     "output_type": "display_data"
    }
   ],
   "source": [
    "sns.boxplot(x=df['Alcohol'])"
   ]
  },
  {
   "cell_type": "code",
   "execution_count": null,
   "id": "7a288c55",
   "metadata": {},
   "outputs": [],
   "source": []
  },
  {
   "cell_type": "code",
   "execution_count": 81,
   "id": "b83403ae",
   "metadata": {},
   "outputs": [
    {
     "name": "stdout",
     "output_type": "stream",
     "text": [
      "q1=4.0 q2=64.0 q3=440.75\n",
      "IQR = 436.75\n",
      "upper_tail=1095.875\n",
      "lower_tail=-541.9375\n"
     ]
    },
    {
     "data": {
      "text/plain": [
       "array([7.100000e+01, 7.300000e+01, 7.800000e+01, 7.000000e+00,\n",
       "       7.900000e+01, 5.600000e+01, 2.500000e+01, 1.000000e+01,\n",
       "       1.700000e+01, 1.000000e+00, 1.500000e+01, 1.100000e+01,\n",
       "       1.600000e+01, 3.640000e+02, 4.280000e+02, 4.300000e+02,\n",
       "       4.120000e+02, 4.370000e+02, 4.100000e+01, 3.480000e+02,\n",
       "       3.600000e+01, 3.200000e+01, 3.000000e+00, 2.600000e+01,\n",
       "       2.210000e+02, 1.400000e+01, 1.040000e+02, 9.600000e+01,\n",
       "       9.100000e+01, 0.000000e+00, 5.400000e+01, 5.440000e+02,\n",
       "       5.550000e+02, 5.090000e+02, 3.520000e+02, 4.300000e+01,\n",
       "       3.200000e+02, 2.700000e+02, 2.000000e+00, 2.200000e+02,\n",
       "       1.480000e+02, 1.470000e+02, 1.540000e+02, 2.300000e+01,\n",
       "       3.500000e+01, 2.560000e+02, 2.390000e+02, 1.910000e+02,\n",
       "       2.120000e+02, 2.490000e+02, 1.840000e+02, 9.800000e+01,\n",
       "       8.000000e+00, 2.400000e+01, 3.000000e+01, 1.095875e+03,\n",
       "       1.490000e+02, 1.800000e+02, 2.570000e+02, 2.160000e+02,\n",
       "       2.200000e+01, 9.270000e+02, 1.630000e+02, 8.470000e+02,\n",
       "       1.001000e+03, 1.870000e+02, 9.610000e+02, 7.190000e+02,\n",
       "       5.700000e+01, 4.700000e+02, 1.230000e+02, 2.950000e+02,\n",
       "       2.790000e+02, 2.740000e+02, 2.600000e+02, 2.240000e+02,\n",
       "       2.010000e+02, 4.400000e+01, 2.440000e+02, 2.000000e+01,\n",
       "       9.700000e+01, 5.300000e+01, 8.720000e+02, 5.790000e+02,\n",
       "       5.880000e+02, 4.600000e+01, 3.470000e+02, 9.000000e+01,\n",
       "       6.900000e+01, 5.040000e+02, 3.060000e+02, 2.750000e+02,\n",
       "       2.850000e+02, 2.630000e+02, 2.460000e+02, 2.060000e+02,\n",
       "       1.760000e+02, 1.050000e+02, 8.100000e+01, 4.200000e+01,\n",
       "       3.900000e+01, 4.000000e+00, 3.670000e+02, 1.970000e+02,\n",
       "       2.660000e+02, 3.320000e+02, 2.310000e+02, 2.780000e+02,\n",
       "       1.700000e+02, 1.060000e+02, 1.670000e+02, 5.200000e+01,\n",
       "       5.900000e+01, 6.200000e+01, 3.800000e+01, 2.940000e+02,\n",
       "       1.730000e+02, 3.270000e+02, 1.810000e+02, 1.660000e+02,\n",
       "       1.300000e+01, 1.330000e+02, 1.380000e+02, 8.460000e+02,\n",
       "       4.340000e+02, 5.010000e+02, 4.640000e+02, 4.500000e+01,\n",
       "       1.450000e+02, 7.020000e+02, 6.640000e+02, 7.130000e+02,\n",
       "       6.650000e+02, 6.710000e+02, 6.400000e+02, 5.070000e+02,\n",
       "       2.870000e+02, 6.700000e+02, 6.290000e+02, 5.820000e+02,\n",
       "       6.050000e+02, 5.690000e+02, 5.490000e+02, 5.100000e+01,\n",
       "       3.870000e+02, 3.650000e+02, 3.250000e+02, 3.120000e+02,\n",
       "       2.620000e+02, 2.510000e+02, 2.190000e+02, 8.700000e+01,\n",
       "       9.000000e+00, 1.100000e+02, 9.400000e+01, 7.500000e+01,\n",
       "       4.000000e+01, 3.700000e+01, 2.090000e+02, 1.900000e+01,\n",
       "       1.880000e+02, 2.890000e+02, 2.700000e+01, 3.020000e+02,\n",
       "       2.830000e+02, 1.690000e+02, 1.510000e+02, 9.300000e+01,\n",
       "       7.320000e+02, 6.930000e+02, 6.300000e+02, 6.450000e+02,\n",
       "       6.600000e+01, 1.430000e+02, 1.650000e+02, 6.620000e+02,\n",
       "       1.200000e+01, 6.680000e+02, 5.470000e+02, 4.260000e+02,\n",
       "       4.760000e+02, 5.120000e+02, 7.600000e+01, 4.690000e+02,\n",
       "       2.990000e+02, 6.000000e+00, 2.500000e+02, 8.300000e+01,\n",
       "       9.160000e+02, 8.430000e+02, 1.084000e+03, 5.640000e+02,\n",
       "       5.260000e+02, 3.940000e+02, 1.860000e+02, 1.400000e+02,\n",
       "       1.790000e+02, 2.690000e+02, 9.410000e+02, 1.078000e+03,\n",
       "       1.530000e+02, 8.510000e+02, 8.750000e+02, 7.660000e+02,\n",
       "       6.610000e+02, 1.070000e+02, 5.910000e+02, 5.080000e+02,\n",
       "       4.560000e+02, 3.840000e+02, 3.300000e+01, 8.800000e+01,\n",
       "       8.500000e+01, 6.400000e+01, 3.100000e+01, 2.100000e+01,\n",
       "       4.140000e+02, 2.860000e+02, 3.390000e+02, 3.600000e+02,\n",
       "       3.450000e+02, 2.400000e+02, 1.550000e+02, 1.500000e+02,\n",
       "       1.220000e+02, 6.000000e+01, 4.800000e+01, 5.500000e+01,\n",
       "       6.100000e+01, 6.300000e+01, 6.800000e+01, 1.000000e+02,\n",
       "       6.700000e+01, 1.020000e+02, 9.710000e+02, 8.640000e+02,\n",
       "       7.710000e+02, 5.800000e+01, 4.900000e+01, 5.000000e+00,\n",
       "       7.200000e+01, 2.110000e+02, 1.770000e+02, 2.410000e+02,\n",
       "       9.540000e+02, 5.840000e+02, 6.750000e+02, 6.870000e+02,\n",
       "       7.400000e+01, 1.090000e+02, 5.000000e+01, 2.900000e+01,\n",
       "       1.710000e+02, 1.130000e+02, 9.780000e+02, 7.800000e+02,\n",
       "       5.310000e+02, 4.170000e+02, 3.930000e+02, 4.040000e+02,\n",
       "       4.770000e+02, 4.700000e+01, 7.700000e+01, 3.860000e+02,\n",
       "       1.002000e+03, 1.043000e+03, 1.070000e+03, 1.120000e+02,\n",
       "       8.680000e+02, 6.500000e+02, 6.490000e+02, 9.500000e+01,\n",
       "       7.420000e+02, 7.870000e+02, 8.180000e+02, 7.080000e+02,\n",
       "       7.500000e+02, 5.230000e+02, 5.180000e+02, 3.340000e+02,\n",
       "       3.220000e+02, 2.070000e+02, 2.300000e+02, 1.580000e+02,\n",
       "       9.500000e+02, 9.280000e+02, 8.500000e+02, 5.300000e+02,\n",
       "       2.290000e+02, 2.170000e+02, 1.210000e+02, 9.200000e+01,\n",
       "       1.088000e+03, 8.570000e+02, 5.870000e+02, 1.820000e+02,\n",
       "       2.930000e+02, 3.400000e+02, 3.440000e+02, 2.820000e+02,\n",
       "       1.800000e+01, 8.400000e+01, 6.530000e+02, 4.160000e+02,\n",
       "       4.400000e+02, 3.980000e+02, 4.000000e+02, 3.530000e+02,\n",
       "       1.560000e+02, 1.150000e+02, 1.024000e+03, 8.270000e+02,\n",
       "       3.090000e+02, 2.340000e+02, 2.610000e+02, 2.250000e+02,\n",
       "       1.010000e+02, 1.320000e+02, 8.900000e+01, 8.600000e+01,\n",
       "       4.600000e+02, 4.310000e+02, 4.010000e+02, 2.530000e+02,\n",
       "       6.780000e+02, 5.240000e+02, 3.970000e+02, 7.510000e+02,\n",
       "       6.830000e+02, 7.150000e+02, 8.050000e+02, 5.450000e+02,\n",
       "       4.430000e+02, 1.830000e+02, 2.180000e+02, 1.980000e+02,\n",
       "       1.940000e+02, 7.000000e+01, 8.950000e+02, 8.390000e+02,\n",
       "       8.690000e+02, 2.800000e+01, 1.950000e+02, 1.610000e+02,\n",
       "       1.290000e+02, 3.720000e+02, 3.180000e+02, 1.600000e+02,\n",
       "       7.890000e+02, 8.650000e+02, 1.460000e+02, 7.540000e+02,\n",
       "       1.190000e+02, 5.130000e+02, 6.760000e+02, 6.570000e+02,\n",
       "       4.840000e+02, 4.570000e+02, 4.450000e+02, 4.720000e+02,\n",
       "       3.800000e+02, 2.880000e+02, 2.380000e+02, 4.970000e+02,\n",
       "       5.360000e+02, 4.660000e+02, 4.930000e+02, 3.620000e+02,\n",
       "       3.110000e+02, 3.630000e+02, 2.220000e+02, 1.920000e+02,\n",
       "       2.030000e+02, 1.640000e+02, 1.030000e+03, 7.640000e+02,\n",
       "       1.003000e+03, 7.250000e+02, 3.400000e+01, 2.000000e+02,\n",
       "       2.540000e+02, 1.900000e+02, 1.250000e+02, 4.470000e+02,\n",
       "       4.290000e+02, 1.850000e+02, 7.460000e+02, 7.030000e+02,\n",
       "       9.730000e+02, 4.090000e+02, 4.710000e+02, 1.990000e+02,\n",
       "       4.830000e+02, 4.730000e+02, 4.270000e+02, 3.960000e+02,\n",
       "       2.350000e+02, 8.630000e+02, 8.990000e+02, 5.780000e+02,\n",
       "       5.460000e+02, 5.350000e+02, 3.730000e+02, 3.130000e+02,\n",
       "       2.280000e+02, 2.590000e+02, 2.480000e+02, 2.270000e+02,\n",
       "       8.080000e+02, 4.990000e+02, 3.510000e+02, 1.370000e+02,\n",
       "       1.620000e+02, 1.110000e+02, 1.590000e+02, 9.590000e+02,\n",
       "       8.000000e+01, 4.780000e+02, 3.760000e+02, 2.910000e+02,\n",
       "       8.350000e+02, 5.340000e+02, 6.180000e+02, 5.270000e+02,\n",
       "       5.100000e+02, 1.680000e+02, 5.320000e+02, 1.160000e+02,\n",
       "       9.130000e+02, 5.610000e+02, 2.670000e+02, 9.100000e+02,\n",
       "       8.200000e+01, 7.210000e+02, 6.500000e+01, 4.380000e+02,\n",
       "       2.970000e+02, 3.150000e+02, 2.640000e+02, 2.100000e+02,\n",
       "       1.079000e+03, 1.077000e+03, 6.590000e+02, 6.200000e+02,\n",
       "       6.110000e+02, 4.910000e+02, 3.000000e+02, 3.740000e+02,\n",
       "       3.430000e+02, 3.350000e+02, 1.300000e+02, 1.340000e+02,\n",
       "       8.710000e+02, 9.170000e+02, 9.150000e+02, 9.180000e+02,\n",
       "       6.240000e+02, 5.020000e+02, 4.790000e+02, 4.070000e+02,\n",
       "       3.690000e+02, 3.360000e+02, 1.033000e+03, 8.810000e+02,\n",
       "       9.800000e+02, 9.980000e+02, 9.200000e+02, 7.810000e+02,\n",
       "       2.810000e+02, 1.260000e+02, 7.260000e+02, 7.070000e+02,\n",
       "       6.480000e+02, 6.660000e+02, 6.350000e+02, 4.890000e+02,\n",
       "       7.090000e+02, 5.950000e+02, 4.950000e+02, 1.570000e+02,\n",
       "       1.270000e+02, 7.600000e+02, 7.960000e+02, 5.750000e+02,\n",
       "       4.590000e+02, 3.680000e+02, 2.050000e+02, 1.047000e+03,\n",
       "       1.035000e+03, 1.040000e+03, 9.240000e+02, 6.060000e+02,\n",
       "       4.960000e+02, 4.420000e+02, 3.660000e+02, 3.210000e+02,\n",
       "       2.920000e+02, 2.040000e+02, 2.770000e+02, 1.420000e+02,\n",
       "       1.009000e+03, 8.800000e+02, 7.490000e+02, 1.055000e+03,\n",
       "       8.540000e+02, 5.850000e+02, 1.092000e+03, 9.560000e+02,\n",
       "       6.310000e+02, 6.230000e+02, 2.080000e+02, 1.030000e+02,\n",
       "       1.240000e+02, 5.730000e+02, 4.410000e+02, 3.590000e+02,\n",
       "       1.520000e+02, 2.330000e+02, 2.730000e+02, 9.460000e+02,\n",
       "       8.850000e+02, 7.590000e+02, 5.700000e+02, 5.160000e+02,\n",
       "       4.480000e+02, 4.110000e+02, 3.560000e+02, 2.430000e+02,\n",
       "       5.420000e+02, 2.710000e+02, 3.310000e+02, 3.370000e+02,\n",
       "       3.330000e+02, 2.760000e+02, 5.150000e+02, 9.830000e+02,\n",
       "       1.280000e+02, 9.190000e+02, 6.150000e+02, 3.750000e+02,\n",
       "       1.780000e+02, 6.250000e+02, 6.600000e+02, 6.980000e+02,\n",
       "       4.920000e+02, 5.580000e+02, 3.100000e+02, 1.960000e+02,\n",
       "       1.170000e+02, 8.160000e+02, 8.320000e+02, 6.880000e+02,\n",
       "       7.100000e+02, 7.820000e+02, 7.740000e+02, 8.200000e+02,\n",
       "       7.720000e+02, 5.410000e+02, 5.030000e+02, 4.620000e+02,\n",
       "       3.890000e+02, 7.010000e+02, 5.620000e+02, 6.430000e+02,\n",
       "       6.010000e+02, 7.140000e+02, 6.380000e+02, 3.920000e+02,\n",
       "       2.470000e+02, 9.220000e+02, 1.089000e+03, 1.038000e+03,\n",
       "       6.220000e+02, 5.190000e+02, 3.460000e+02, 4.230000e+02,\n",
       "       4.050000e+02, 1.200000e+02, 1.720000e+02, 9.890000e+02,\n",
       "       9.900000e+01, 8.150000e+02, 6.850000e+02, 4.180000e+02,\n",
       "       2.680000e+02, 5.740000e+02, 7.200000e+02, 7.350000e+02,\n",
       "       4.130000e+02, 1.310000e+02, 7.780000e+02, 6.820000e+02,\n",
       "       5.990000e+02, 8.420000e+02, 7.880000e+02, 8.010000e+02,\n",
       "       7.480000e+02, 6.090000e+02, 5.200000e+02, 4.330000e+02,\n",
       "       3.010000e+02, 5.650000e+02, 5.680000e+02, 6.890000e+02,\n",
       "       3.300000e+02, 1.440000e+02, 1.360000e+02, 6.040000e+02,\n",
       "       5.940000e+02, 4.200000e+02, 3.790000e+02, 4.210000e+02,\n",
       "       6.910000e+02, 4.900000e+02, 3.850000e+02, 4.530000e+02,\n",
       "       4.150000e+02, 3.240000e+02, 3.770000e+02, 3.080000e+02,\n",
       "       4.630000e+02, 4.820000e+02, 8.820000e+02, 3.610000e+02,\n",
       "       3.420000e+02])"
      ]
     },
     "execution_count": 81,
     "metadata": {},
     "output_type": "execute_result"
    }
   ],
   "source": [
    "o,u,l=get_outlier_iqr(df['percentage expenditure'])\n",
    "df.loc[(df['percentage expenditure']>u) | (df['percentage expenditure']<l),'percentage expenditure']= u\n",
    "df['percentage expenditure'].unique()"
   ]
  },
  {
   "cell_type": "code",
   "execution_count": 82,
   "id": "579c7c83",
   "metadata": {},
   "outputs": [
    {
     "data": {
      "text/plain": [
       "<AxesSubplot:xlabel='percentage expenditure'>"
      ]
     },
     "execution_count": 82,
     "metadata": {},
     "output_type": "execute_result"
    },
    {
     "data": {
      "image/png": "[encoded data removed]",
      "text/plain": [
       "<Figure size 432x288 with 1 Axes>"
      ]
     },
     "metadata": {
      "needs_background": "light"
     },
     "output_type": "display_data"
    }
   ],
   "source": [
    "sns.boxplot(x=df['percentage expenditure'])"
   ]
  },
  {
   "cell_type": "code",
   "execution_count": 83,
   "id": "d2906f36",
   "metadata": {},
   "outputs": [
    {
     "data": {
      "text/plain": [
       "Index(['Country', 'Year', 'Status', 'Life expectancy ', 'Adult Mortality',\n",
       "       'infant deaths', 'Alcohol', 'percentage expenditure', 'Hepatitis B',\n",
       "       'Measles ', ' BMI ', 'under-five deaths ', 'Polio', 'Total expenditure',\n",
       "       'Diphtheria ', ' HIV/AIDS', 'GDP', 'Population',\n",
       "       ' thinness  1-19 years', ' thinness 5-9 years',\n",
       "       'Income composition of resources', 'Schooling'],\n",
       "      dtype='object')"
      ]
     },
     "execution_count": 83,
     "metadata": {},
     "output_type": "execute_result"
    }
   ],
   "source": [
    "df.columns"
   ]
  },
  {
   "cell_type": "code",
   "execution_count": 87,
   "id": "4cc0cedd",
   "metadata": {},
   "outputs": [
    {
     "name": "stdout",
     "output_type": "stream",
     "text": [
      "q1=91.0 q2=93.0 q3=98.0\n",
      "IQR = 7.0\n",
      "upper_tail=108.5\n",
      "lower_tail=82.25\n"
     ]
    },
    {
     "data": {
      "text/plain": [
       "array([108.5,  99. ,  98. ,  97. ,  96. ,  95. ,  94. ,  91. ,  83. ,\n",
       "        92. ,  85. ,  84. ,  88. ,  93. ,  89. ,  86. ,  87. ])"
      ]
     },
     "execution_count": 87,
     "metadata": {},
     "output_type": "execute_result"
    }
   ],
   "source": [
    "o,u,l=get_outlier_iqr(df['Hepatitis B'])\n",
    "df.loc[(df['Hepatitis B']>u) | (df['Hepatitis B']<l),'Hepatitis B']= u\n",
    "df['Hepatitis B'].unique()"
   ]
  },
  {
   "cell_type": "code",
   "execution_count": 88,
   "id": "497cb5eb",
   "metadata": {},
   "outputs": [
    {
     "data": {
      "text/plain": [
       "<AxesSubplot:xlabel='Hepatitis B'>"
      ]
     },
     "execution_count": 88,
     "metadata": {},
     "output_type": "execute_result"
    },
    {
     "data": {
      "image/png": "[encoded data removed]",
      "text/plain": [
       "<Figure size 432x288 with 1 Axes>"
      ]
     },
     "metadata": {
      "needs_background": "light"
     },
     "output_type": "display_data"
    }
   ],
   "source": [
    "sns.boxplot(x=df['Hepatitis B'])"
   ]
  },
  {
   "cell_type": "code",
   "execution_count": 89,
   "id": "40205fad",
   "metadata": {},
   "outputs": [
    {
     "name": "stdout",
     "output_type": "stream",
     "text": [
      "q1=0.0 q2=17.0 q3=360.25\n",
      "IQR = 360.25\n",
      "upper_tail=900.625\n",
      "lower_tail=-450.3125\n"
     ]
    },
    {
     "data": {
      "text/plain": [
       "array([900.625, 492.   , 430.   , 466.   , 798.   ,   0.   ,   9.   ,\n",
       "        28.   ,  10.   ,  22.   ,  68.   ,   6.   ,   7.   ,   8.   ,\n",
       "        16.   ,  18.   , 662.   ,  63.   ,  25.   , 112.   , 103.   ,\n",
       "       107.   , 217.   , 118.   , 265.   , 765.   , 258.   ,  29.   ,\n",
       "         1.   ,   2.   ,   3.   ,  17.   ,  33.   ,  13.   , 137.   ,\n",
       "         4.   ,  40.   ,  69.   ,  15.   ,  74.   , 340.   , 158.   ,\n",
       "       199.   , 190.   ,  70.   , 104.   ,  65.   ,  11.   ,  91.   ,\n",
       "        32.   , 141.   , 108.   , 309.   , 117.   ,  36.   ,  52.   ,\n",
       "        49.   , 448.   ,  20.   ,  23.   ,  90.   , 164.   ,   5.   ,\n",
       "       222.   , 827.   , 574.   , 210.   ,  46.   ,  12.   , 240.   ,\n",
       "       289.   , 237.   , 788.   , 718.   ,  64.   ,  50.   , 149.   ,\n",
       "        21.   ,  14.   ,  45.   ,  47.   ,  39.   , 109.   , 576.   ,\n",
       "        98.   ,  26.   ,  61.   ,  44.   ,  83.   ,  55.   , 786.   ,\n",
       "       637.   , 288.   , 426.   , 392.   , 341.   , 176.   , 262.   ,\n",
       "        27.   , 756.   , 418.   , 122.   , 166.   ,  43.   , 853.   ,\n",
       "       184.   ,  59.   , 214.   , 876.   , 220.   ,  57.   ,  24.   ,\n",
       "        42.   , 157.   ,  99.   , 343.   , 375.   , 860.   , 395.   ,\n",
       "       125.   , 253.   ,  77.   , 129.   , 495.   , 305.   , 173.   ,\n",
       "       784.   , 224.   ,  48.   , 628.   , 441.   , 183.   , 115.   ,\n",
       "       722.   , 394.   , 188.   , 264.   , 352.   , 653.   , 831.   ,\n",
       "       760.   , 609.   , 504.   , 251.   , 100.   , 196.   , 605.   ,\n",
       "       358.   , 899.   , 195.   , 803.   ,  62.   , 101.   ,  34.   ,\n",
       "       206.   , 150.   , 596.   , 679.   , 471.   , 652.   , 226.   ,\n",
       "       120.   , 194.   , 165.   , 139.   ,  85.   ,  71.   , 124.   ,\n",
       "       260.   , 315.   ,  84.   , 126.   , 146.   ,  51.   ,  54.   ,\n",
       "        19.   ,  30.   , 709.   , 143.   , 298.   ,  37.   ,  79.   ,\n",
       "       113.   ,  72.   , 257.   , 405.   , 245.   , 608.   , 668.   ,\n",
       "        80.   , 321.   ,  78.   , 436.   ,  38.   , 198.   , 127.   ,\n",
       "        82.   , 128.   , 376.   , 460.   , 204.   , 789.   , 357.   ,\n",
       "        73.   , 228.   , 136.   , 304.   , 267.   , 272.   , 604.   ,\n",
       "       110.   , 119.   , 336.   , 431.   ,  31.   ,  56.   , 334.   ,\n",
       "       216.   ,  35.   , 443.   , 780.   , 567.   , 778.   , 121.   ,\n",
       "       779.   , 319.   , 641.   , 420.   , 435.   ,  60.   , 243.   ,\n",
       "       175.   ,  53.   ,  89.   , 153.   , 159.   , 615.   , 189.   ,\n",
       "       332.   , 538.   , 133.   , 669.   , 230.   , 474.   , 726.   ,\n",
       "       285.   ,  87.   ,  95.   , 584.   , 241.   , 211.   , 539.   ,\n",
       "       116.   , 372.   , 351.   , 439.   , 135.   , 599.   , 462.   ,\n",
       "       229.   , 434.   , 450.   , 741.   , 520.   ,  41.   ,  76.   ,\n",
       "       526.   ,  94.   , 354.   , 766.   , 318.   , 339.   , 174.   ,\n",
       "        58.   , 295.   , 373.   , 618.   , 213.   , 516.   , 179.   ,\n",
       "       172.   , 660.   , 279.   , 142.   , 131.   , 320.   , 329.   ,\n",
       "       292.   , 633.   , 167.   ,  92.   , 221.   , 564.   , 632.   ,\n",
       "       408.   ,  75.   , 215.   , 290.   , 232.   , 717.   , 234.   ,\n",
       "       322.   , 883.   , 777.   , 140.   , 834.   , 145.   , 177.   ,\n",
       "       333.   , 314.   , 830.   , 736.   , 845.   , 212.   , 477.   ,\n",
       "        86.   , 416.   , 469.   , 280.   , 597.   ,  66.   , 771.   ,\n",
       "       801.   , 282.   , 704.   , 386.   , 863.   , 619.   , 530.   ,\n",
       "       160.   , 361.   , 144.   , 442.   , 114.   , 457.   , 687.   ,\n",
       "       193.   , 353.   , 843.   , 629.   , 454.   , 580.   , 494.   ,\n",
       "       896.   , 219.   , 154.   , 294.   , 362.   , 807.   , 311.   ,\n",
       "       155.   , 428.   , 383.   , 370.   , 201.   , 607.   , 678.   ,\n",
       "       586.   , 568.   , 649.   , 138.   , 148.   ,  96.   ,  81.   ,\n",
       "       244.   , 878.   , 525.   , 302.   , 297.   , 256.   ,  67.   ,\n",
       "       152.   , 676.   , 680.   , 327.   , 313.   , 350.   , 621.   ,\n",
       "       700.   , 594.   , 740.   , 403.   , 517.   , 192.   , 701.   ,\n",
       "       763.   , 203.   , 577.   , 238.   , 187.   , 425.   , 363.   ,\n",
       "       231.   , 342.   , 565.   , 349.   , 111.   , 478.   , 105.   ,\n",
       "       411.   , 817.   , 347.   , 344.   , 132.   , 764.   ,  88.   ,\n",
       "       185.   , 667.   , 476.   , 823.   , 737.   , 578.   , 750.   ,\n",
       "       410.   , 468.   , 815.   , 400.   , 510.   , 130.   , 890.   ,\n",
       "       485.   , 535.   , 459.   , 881.   , 242.   , 529.   ])"
      ]
     },
     "execution_count": 89,
     "metadata": {},
     "output_type": "execute_result"
    }
   ],
   "source": [
    "o,u,l=get_outlier_iqr(df['Measles '])\n",
    "df.loc[(df['Measles ']>u) | (df['Measles ']<l),'Measles ']= u\n",
    "df['Measles '].unique()"
   ]
  },
  {
   "cell_type": "code",
   "execution_count": 90,
   "id": "9d9acd68",
   "metadata": {},
   "outputs": [
    {
     "data": {
      "text/plain": [
       "<AxesSubplot:xlabel='Measles '>"
      ]
     },
     "execution_count": 90,
     "metadata": {},
     "output_type": "execute_result"
    },
    {
     "data": {
      "image/png": "[encoded data removed]",
      "text/plain": [
       "<Figure size 432x288 with 1 Axes>"
      ]
     },
     "metadata": {
      "needs_background": "light"
     },
     "output_type": "display_data"
    }
   ],
   "source": [
    "sns.boxplot(x=df['Measles '])"
   ]
  },
  {
   "cell_type": "code",
   "execution_count": 91,
   "id": "b032ae8b",
   "metadata": {},
   "outputs": [
    {
     "name": "stdout",
     "output_type": "stream",
     "text": [
      "q1=19.0 q2=43.0 q3=56.0\n",
      "IQR = 37.0\n",
      "upper_tail=111.5\n",
      "lower_tail=-27.25\n"
     ]
    },
    {
     "data": {
      "text/plain": [
       "array([19., 18., 17., 16., 15., 14., 13., 12., 58., 57., 56., 55., 54.,\n",
       "       53., 52., 51.,  5., 49., 48., 47., 46., 45., 59., 44., 23., 22.,\n",
       "       21.,  2., 43., 42., 41.,  4., 39., 38., 62., 61.,  6., 66., 65.,\n",
       "       64., 63., 11.,  1., 25., 24., 37., 36., 35., 34., 33., 32., 31.,\n",
       "        3., 29., 28., 27., 26., 67., 82., 77., 76., 75., 74., 73., 72.,\n",
       "       71.,  7., 69., 68., 81., 87., 83., 79.,  9.])"
      ]
     },
     "execution_count": 91,
     "metadata": {},
     "output_type": "execute_result"
    }
   ],
   "source": [
    "o,u,l=get_outlier_iqr(df[' BMI '])\n",
    "df.loc[(df[' BMI ']>u) | (df[' BMI ']<l),' BMI ']= u\n",
    "df[' BMI '].unique()"
   ]
  },
  {
   "cell_type": "code",
   "execution_count": 92,
   "id": "00ce6644",
   "metadata": {},
   "outputs": [
    {
     "data": {
      "text/plain": [
       "<AxesSubplot:xlabel=' BMI '>"
      ]
     },
     "execution_count": 92,
     "metadata": {},
     "output_type": "execute_result"
    },
    {
     "data": {
      "image/png": "[encoded data removed]",
      "text/plain": [
       "<Figure size 432x288 with 1 Axes>"
      ]
     },
     "metadata": {
      "needs_background": "light"
     },
     "output_type": "display_data"
    }
   ],
   "source": [
    "sns.boxplot(x=df[' BMI '])"
   ]
  },
  {
   "cell_type": "code",
   "execution_count": 93,
   "id": "bea9a84b",
   "metadata": {},
   "outputs": [
    {
     "name": "stdout",
     "output_type": "stream",
     "text": [
      "q1=0.0 q2=4.0 q3=28.0\n",
      "IQR = 28.0\n",
      "upper_tail=70.0\n",
      "lower_tail=-35.0\n"
     ]
    },
    {
     "data": {
      "text/plain": [
       "array([70,  0,  1, 24, 23, 22, 25,  9, 10, 11, 12, 13, 14,  2,  6,  7,  8,\n",
       "       39, 40, 15, 16, 17, 18, 19, 20,  3,  4, 47, 49, 52, 54, 57, 61, 64,\n",
       "       68, 63, 66, 31, 32, 33, 34, 35, 36, 37, 38, 41, 21, 26, 29, 60, 62,\n",
       "       65,  5, 55, 56, 58, 59, 42, 43, 44, 46, 48, 51, 53, 27, 28, 30, 45,\n",
       "       50, 69], dtype=int64)"
      ]
     },
     "execution_count": 93,
     "metadata": {},
     "output_type": "execute_result"
    }
   ],
   "source": [
    "o,u,l=get_outlier_iqr(df['under-five deaths '])\n",
    "df.loc[(df['under-five deaths ']>u) | (df['under-five deaths ']<l),'under-five deaths ']= u\n",
    "df['under-five deaths '].unique()"
   ]
  },
  {
   "cell_type": "code",
   "execution_count": 94,
   "id": "39dfbed8",
   "metadata": {},
   "outputs": [
    {
     "data": {
      "text/plain": [
       "<AxesSubplot:xlabel='under-five deaths '>"
      ]
     },
     "execution_count": 94,
     "metadata": {},
     "output_type": "execute_result"
    },
    {
     "data": {
      "image/png": "[encoded data removed]",
      "text/plain": [
       "<Figure size 432x288 with 1 Axes>"
      ]
     },
     "metadata": {
      "needs_background": "light"
     },
     "output_type": "display_data"
    }
   ],
   "source": [
    "sns.boxplot(x=df['under-five deaths '])"
   ]
  },
  {
   "cell_type": "code",
   "execution_count": 100,
   "id": "79126cde",
   "metadata": {},
   "outputs": [
    {
     "name": "stdout",
     "output_type": "stream",
     "text": [
      "q1=91.0 q2=96.0 q3=99.0\n",
      "IQR = 8.0\n",
      "upper_tail=111.0\n",
      "lower_tail=81.0\n"
     ]
    },
    {
     "data": {
      "text/plain": [
       "array([111.,  99.,  98.,  97.,  95.,  94.,  92.,  88.,  86.,  87.,  89.,\n",
       "        81.,  96.,  93.,  91.,  85.,  83.,  84.,  82.])"
      ]
     },
     "execution_count": 100,
     "metadata": {},
     "output_type": "execute_result"
    }
   ],
   "source": [
    "o,u,l=get_outlier_iqr(df['Polio'])\n",
    "df.loc[(df['Polio']>u) | (df['Polio']<l),'Polio']= u\n",
    "df['Polio'].unique()"
   ]
  },
  {
   "cell_type": "code",
   "execution_count": 101,
   "id": "0c96f7c2",
   "metadata": {},
   "outputs": [
    {
     "data": {
      "text/plain": [
       "<AxesSubplot:xlabel='Polio'>"
      ]
     },
     "execution_count": 101,
     "metadata": {},
     "output_type": "execute_result"
    },
    {
     "data": {
      "image/png": "[encoded data removed]",
      "text/plain": [
       "<Figure size 432x288 with 1 Axes>"
      ]
     },
     "metadata": {
      "needs_background": "light"
     },
     "output_type": "display_data"
    }
   ],
   "source": [
    "sns.boxplot(x=df['Polio'])"
   ]
  },
  {
   "cell_type": "code",
   "execution_count": 102,
   "id": "8d965a00",
   "metadata": {},
   "outputs": [
    {
     "name": "stdout",
     "output_type": "stream",
     "text": [
      "q1=4.0 q2=5.0 q3=7.0\n",
      "IQR = 3.0\n",
      "upper_tail=11.5\n",
      "lower_tail=0.25\n"
     ]
    },
    {
     "data": {
      "text/plain": [
       "array([ 8. ,  7. ,  9. ,  6. ,  5. ,  4. ,  3. ,  2. , 11. ,  1. , 11.5])"
      ]
     },
     "execution_count": 102,
     "metadata": {},
     "output_type": "execute_result"
    }
   ],
   "source": [
    "o,u,l=get_outlier_iqr(df['Total expenditure'])\n",
    "df.loc[(df['Total expenditure']>u) | (df['Total expenditure']<l),'Total expenditure']= u\n",
    "df['Total expenditure'].unique()"
   ]
  },
  {
   "cell_type": "code",
   "execution_count": 103,
   "id": "1693d4e8",
   "metadata": {},
   "outputs": [
    {
     "data": {
      "text/plain": [
       "<AxesSubplot:xlabel='Total expenditure'>"
      ]
     },
     "execution_count": 103,
     "metadata": {},
     "output_type": "execute_result"
    },
    {
     "data": {
      "image/png": "[encoded data removed]",
      "text/plain": [
       "<Figure size 432x288 with 1 Axes>"
      ]
     },
     "metadata": {
      "needs_background": "light"
     },
     "output_type": "display_data"
    }
   ],
   "source": [
    "sns.boxplot(x=df['Total expenditure'])"
   ]
  },
  {
   "cell_type": "code",
   "execution_count": 109,
   "id": "47bd1a53",
   "metadata": {},
   "outputs": [
    {
     "name": "stdout",
     "output_type": "stream",
     "text": [
      "q1=91.0 q2=96.0 q3=99.0\n",
      "IQR = 8.0\n",
      "upper_tail=111.0\n",
      "lower_tail=81.0\n"
     ]
    },
    {
     "data": {
      "text/plain": [
       "array([111.,  99.,  98.,  97.,  95.,  93.,  88.,  86.,  87.,  89.,  94.,\n",
       "        91.,  96.,  83.,  92.,  85.,  84.,  81.,  82.])"
      ]
     },
     "execution_count": 109,
     "metadata": {},
     "output_type": "execute_result"
    }
   ],
   "source": [
    "o,u,l=get_outlier_iqr(df['Diphtheria '])\n",
    "df.loc[(df['Diphtheria ']>u) | (df['Diphtheria ']<l),'Diphtheria ']= u\n",
    "df['Diphtheria '].unique()"
   ]
  },
  {
   "cell_type": "code",
   "execution_count": 110,
   "id": "ae68fb15",
   "metadata": {},
   "outputs": [
    {
     "data": {
      "text/plain": [
       "<AxesSubplot:xlabel='Diphtheria '>"
      ]
     },
     "execution_count": 110,
     "metadata": {},
     "output_type": "execute_result"
    },
    {
     "data": {
      "image/png": "[encoded data removed]",
      "text/plain": [
       "<Figure size 432x288 with 1 Axes>"
      ]
     },
     "metadata": {
      "needs_background": "light"
     },
     "output_type": "display_data"
    }
   ],
   "source": [
    "sns.boxplot(x=df['Diphtheria '])"
   ]
  },
  {
   "cell_type": "code",
   "execution_count": 111,
   "id": "503d1879",
   "metadata": {},
   "outputs": [
    {
     "name": "stdout",
     "output_type": "stream",
     "text": [
      "q1=579.75 q2=1766.0 q3=4779.0\n",
      "IQR = 4199.25\n",
      "upper_tail=11077.875\n",
      "lower_tail=-4669.3125\n"
     ]
    },
    {
     "data": {
      "text/plain": [
       "array([584., 612., 631., ..., 453.,  57., 548.])"
      ]
     },
     "execution_count": 111,
     "metadata": {},
     "output_type": "execute_result"
    }
   ],
   "source": [
    "o,u,l=get_outlier_iqr(df['GDP'])\n",
    "df.loc[(df['GDP']>u) | (df['GDP']<l),'GDP']= u\n",
    "df['GDP'].unique()"
   ]
  },
  {
   "cell_type": "code",
   "execution_count": 112,
   "id": "26ce3a06",
   "metadata": {},
   "outputs": [
    {
     "data": {
      "text/plain": [
       "<AxesSubplot:xlabel='GDP'>"
      ]
     },
     "execution_count": 112,
     "metadata": {},
     "output_type": "execute_result"
    },
    {
     "data": {
      "image/png": "[encoded data removed]",
      "text/plain": [
       "<Figure size 432x288 with 1 Axes>"
      ]
     },
     "metadata": {
      "needs_background": "light"
     },
     "output_type": "display_data"
    }
   ],
   "source": [
    "sns.boxplot(x=df['GDP'])"
   ]
  },
  {
   "cell_type": "code",
   "execution_count": 113,
   "id": "77503d25",
   "metadata": {},
   "outputs": [
    {
     "name": "stdout",
     "output_type": "stream",
     "text": [
      "q1=418917.25 q2=1386542.0 q3=4584371.25\n",
      "IQR = 4165454.0\n",
      "upper_tail=10832552.25\n",
      "lower_tail=-4787900.25\n"
     ]
    },
    {
     "data": {
      "text/plain": [
       "array([10832552.25,   327582.  ,  3696958.  , ...,  1332999.  ,\n",
       "         129432.  ,   125525.  ])"
      ]
     },
     "execution_count": 113,
     "metadata": {},
     "output_type": "execute_result"
    }
   ],
   "source": [
    "o,u,l=get_outlier_iqr(df['Population'])\n",
    "df.loc[(df['Population']>u) | (df['Population']<l),'Population']= u\n",
    "df['Population'].unique()"
   ]
  },
  {
   "cell_type": "code",
   "execution_count": 114,
   "id": "31cfcc44",
   "metadata": {},
   "outputs": [
    {
     "data": {
      "text/plain": [
       "<AxesSubplot:xlabel='Population'>"
      ]
     },
     "execution_count": 114,
     "metadata": {},
     "output_type": "execute_result"
    },
    {
     "data": {
      "image/png": "[encoded data removed]",
      "text/plain": [
       "<Figure size 432x288 with 1 Axes>"
      ]
     },
     "metadata": {
      "needs_background": "light"
     },
     "output_type": "display_data"
    }
   ],
   "source": [
    "sns.boxplot(x=df['Population'])"
   ]
  },
  {
   "cell_type": "code",
   "execution_count": 115,
   "id": "085b70cd",
   "metadata": {},
   "outputs": [
    {
     "name": "stdout",
     "output_type": "stream",
     "text": [
      "q1=1.0 q2=3.0 q3=7.0\n",
      "IQR = 6.0\n",
      "upper_tail=16.0\n",
      "lower_tail=-6.5\n"
     ]
    },
    {
     "data": {
      "text/plain": [
       "array([16,  2,  1,  6,  5,  8,  9,  3,  0,  4,  7, 15, 11, 12, 13, 14])"
      ]
     },
     "execution_count": 115,
     "metadata": {},
     "output_type": "execute_result"
    }
   ],
   "source": [
    "o,u,l=get_outlier_iqr(df[' thinness  1-19 years'])\n",
    "df.loc[(df[' thinness  1-19 years']>u) | (df[' thinness  1-19 years']<l),' thinness  1-19 years']= u\n",
    "df[' thinness  1-19 years'].unique()"
   ]
  },
  {
   "cell_type": "code",
   "execution_count": 116,
   "id": "38540244",
   "metadata": {},
   "outputs": [
    {
     "data": {
      "text/plain": [
       "<AxesSubplot:xlabel=' thinness  1-19 years'>"
      ]
     },
     "execution_count": 116,
     "metadata": {},
     "output_type": "execute_result"
    },
    {
     "data": {
      "image/png": "[encoded data removed]",
      "text/plain": [
       "<Figure size 432x288 with 1 Axes>"
      ]
     },
     "metadata": {
      "needs_background": "light"
     },
     "output_type": "display_data"
    }
   ],
   "source": [
    "sns.boxplot(x=df[' thinness  1-19 years'])"
   ]
  },
  {
   "cell_type": "code",
   "execution_count": 117,
   "id": "25885227",
   "metadata": {},
   "outputs": [
    {
     "name": "stdout",
     "output_type": "stream",
     "text": [
      "q1=1.0 q2=3.0 q3=7.0\n",
      "IQR = 6.0\n",
      "upper_tail=16.0\n",
      "lower_tail=-6.5\n"
     ]
    },
    {
     "data": {
      "text/plain": [
       "array([16,  2,  1,  5,  6,  8,  9,  3,  0,  4,  7, 11, 12, 13, 14, 15])"
      ]
     },
     "execution_count": 117,
     "metadata": {},
     "output_type": "execute_result"
    }
   ],
   "source": [
    "o,u,l=get_outlier_iqr(df[' thinness 5-9 years'])\n",
    "df.loc[(df[' thinness 5-9 years']>u) | (df[' thinness 5-9 years']<l),' thinness 5-9 years']= u\n",
    "df[' thinness 5-9 years'].unique()"
   ]
  },
  {
   "cell_type": "code",
   "execution_count": 118,
   "id": "72ecf5aa",
   "metadata": {},
   "outputs": [
    {
     "data": {
      "text/plain": [
       "<AxesSubplot:xlabel=' thinness 5-9 years'>"
      ]
     },
     "execution_count": 118,
     "metadata": {},
     "output_type": "execute_result"
    },
    {
     "data": {
      "image/png": "[encoded data removed]",
      "text/plain": [
       "<Figure size 432x288 with 1 Axes>"
      ]
     },
     "metadata": {
      "needs_background": "light"
     },
     "output_type": "display_data"
    }
   ],
   "source": [
    "sns.boxplot(x=df[' thinness 5-9 years'])"
   ]
  },
  {
   "cell_type": "code",
   "execution_count": 119,
   "id": "99ddd7fd",
   "metadata": {},
   "outputs": [
    {
     "name": "stdout",
     "output_type": "stream",
     "text": [
      "q1=10.0 q2=12.0 q3=14.0\n",
      "IQR = 4.0\n",
      "upper_tail=20.0\n",
      "lower_tail=5.0\n"
     ]
    },
    {
     "data": {
      "text/plain": [
       "array([10,  9,  8,  7,  6,  5, 14, 13, 12, 11, 20, 17, 16, 15, 19, 18])"
      ]
     },
     "execution_count": 119,
     "metadata": {},
     "output_type": "execute_result"
    }
   ],
   "source": [
    "o,u,l=get_outlier_iqr(df['Schooling'])\n",
    "df.loc[(df['Schooling']>u) | (df['Schooling']<l),'Schooling']= u\n",
    "df['Schooling'].unique()"
   ]
  },
  {
   "cell_type": "code",
   "execution_count": 120,
   "id": "a2c6f5ab",
   "metadata": {},
   "outputs": [
    {
     "data": {
      "text/plain": [
       "<AxesSubplot:xlabel='Schooling'>"
      ]
     },
     "execution_count": 120,
     "metadata": {},
     "output_type": "execute_result"
    },
    {
     "data": {
      "image/png": "[encoded data removed]",
      "text/plain": [
       "<Figure size 432x288 with 1 Axes>"
      ]
     },
     "metadata": {
      "needs_background": "light"
     },
     "output_type": "display_data"
    }
   ],
   "source": [
    "sns.boxplot(x=df['Schooling'])"
   ]
  },
  {
   "cell_type": "code",
   "execution_count": 121,
   "id": "e768033e",
   "metadata": {},
   "outputs": [
    {
     "data": {
      "text/plain": [
       "((2938, 18), (2938,))"
      ]
     },
     "execution_count": 121,
     "metadata": {},
     "output_type": "execute_result"
    }
   ],
   "source": [
    "x=df.drop(['Life expectancy ','Country','Year','Income composition of resources'],axis=1)\n",
    "y=df['Life expectancy ']\n",
    "x.shape,y.shape"
   ]
  },
  {
   "cell_type": "code",
   "execution_count": 122,
   "id": "db56f6a4",
   "metadata": {},
   "outputs": [],
   "source": [
    "x_train,x_test,y_train,y_test=train_test_split(x,y,train_size=0.7,random_state=7)"
   ]
  },
  {
   "cell_type": "code",
   "execution_count": 123,
   "id": "77d74fcc",
   "metadata": {},
   "outputs": [
    {
     "data": {
      "text/plain": [
       "LinearRegression()"
      ]
     },
     "execution_count": 123,
     "metadata": {},
     "output_type": "execute_result"
    }
   ],
   "source": [
    "m1=LinearRegression()\n",
    "m1.fit(x_train,y_train)"
   ]
  },
  {
   "cell_type": "code",
   "execution_count": 124,
   "id": "48204882",
   "metadata": {},
   "outputs": [
    {
     "name": "stdout",
     "output_type": "stream",
     "text": [
      "MSE = \n",
      " 44.16954922413081\n",
      "RMSE = \n",
      " 6.646017546179879\n",
      "MAE = \n",
      "4.1479951387893035\n",
      "R-Squared Value = \n",
      " 0.502072496868909\n",
      "ADJUSTED R - SQUARED VALUE =\n",
      " 0.49767254838763275\n",
      "------------------------------------\n",
      "MSE = \n",
      " 50.93274049579862\n",
      "RMSE = \n",
      " 7.136717767699562\n",
      "MAE = \n",
      "4.550707909646496\n",
      "R-Squared Value = \n",
      " 0.4534012318654079\n",
      "ADJUSTED R - SQUARED VALUE =\n",
      " 0.4420005623098776\n"
     ]
    },
    {
     "data": {
      "text/plain": [
       "'Success'"
      ]
     },
     "execution_count": 124,
     "metadata": {},
     "output_type": "execute_result"
    }
   ],
   "source": [
    "m1_eval(m1,x_train,y_train)\n",
    "print(\"------------------------------------\")\n",
    "m1_eval(m1,x_test,y_test)"
   ]
  },
  {
   "cell_type": "code",
   "execution_count": null,
   "id": "a5858a98",
   "metadata": {},
   "outputs": [],
   "source": [
    "## Bias and variance Trade off \n",
    "\n",
    "Bias >> low/ Bias \n",
    "Variance >> low variance \n",
    "\n",
    "Generelaised / best model"
   ]
  },
  {
   "cell_type": "code",
   "execution_count": 125,
   "id": "21b93063",
   "metadata": {},
   "outputs": [
    {
     "data": {
      "text/plain": [
       "LinearRegression()"
      ]
     },
     "execution_count": 125,
     "metadata": {},
     "output_type": "execute_result"
    }
   ],
   "source": [
    "m1"
   ]
  },
  {
   "cell_type": "code",
   "execution_count": 127,
   "id": "9cd223a4",
   "metadata": {},
   "outputs": [],
   "source": [
    "with open('linear_model.pkl','wb') as file: \n",
    "    pickle.dump(m1,file)"
   ]
  },
  {
   "cell_type": "code",
   "execution_count": 134,
   "id": "80cf6812",
   "metadata": {},
   "outputs": [
    {
     "name": "stdout",
     "output_type": "stream",
     "text": [
      "[59.57939423 57.45488737 58.71226283 ... 80.08752859 72.44383319\n",
      " 71.47658996]\n"
     ]
    }
   ],
   "source": [
    "\"\"\"'Status','infant deaths', 'Alcohol', 'percentage expenditure', 'Hepatitis B',\n",
    "'Measles ', ' BMI ', 'under-five deaths ', 'Polio', 'Total expenditure',\n",
    "'Diphtheria ', ' HIV/AIDS', 'GDP', 'Population',\n",
    "' thinness  1-19 years', ' thinness 5-9 years', 'Schooling'\"\"\"\n",
    "\n",
    "data = x\n",
    "\n",
    "Life_expectancy = m1.predict(data)\n",
    "print(Life_expectancy)"
   ]
  },
  {
   "cell_type": "code",
   "execution_count": 139,
   "id": "af804a42",
   "metadata": {},
   "outputs": [],
   "source": [
    "columns = {\"Column Names\":x.columns.tolist()}\n",
    "\n",
    "with open('columns_names.json','w') as file: \n",
    "    json.dump(columns,file)"
   ]
  },
  {
   "cell_type": "code",
   "execution_count": 140,
   "id": "4353e2ec",
   "metadata": {},
   "outputs": [],
   "source": [
    "encoded_data = {'Status' : {\"Developing\":0,\"Developed\":1}}"
   ]
  },
  {
   "cell_type": "code",
   "execution_count": 141,
   "id": "afa772e1",
   "metadata": {},
   "outputs": [],
   "source": [
    "with open('encoded_data.json','w') as file: \n",
    "    json.dump(encoded_data,file)"
   ]
  },
  {
   "cell_type": "code",
   "execution_count": null,
   "id": "8fe14c38",
   "metadata": {},
   "outputs": [],
   "source": []
  }
 ],
 "metadata": {
  "kernelspec": {
   "display_name": "Python 3 (ipykernel)",
   "language": "python",
   "name": "python3"
  },
  "language_info": {
   "codemirror_mode": {
    "name": "ipython",
    "version": 3
   },
   "file_extension": ".py",
   "mimetype": "text/x-python",
   "name": "python",
   "nbconvert_exporter": "python",
   "pygments_lexer": "ipython3",
   "version": "3.9.12"
  }
 },
 "nbformat": 4,
 "nbformat_minor": 5
}
